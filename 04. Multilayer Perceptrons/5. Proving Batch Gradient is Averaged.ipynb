{
 "cells": [
  {
   "cell_type": "code",
   "execution_count": 1,
   "id": "507e48cb-689c-43a5-bbc7-ff25642e2c46",
   "metadata": {},
   "outputs": [],
   "source": [
    "import torch"
   ]
  },
  {
   "cell_type": "markdown",
   "id": "5d464da9-52b3-4904-a484-d42ef9534f20",
   "metadata": {},
   "source": [
    "# For the overall model"
   ]
  },
  {
   "cell_type": "code",
   "execution_count": 53,
   "id": "c77b273e-0d71-4d87-8b88-2f41d21edf75",
   "metadata": {},
   "outputs": [],
   "source": [
    "seed = torch.manual_seed(42)\n",
    "X = torch.rand(4, 3, requires_grad=True)\n",
    "W = torch.rand(3, 1, requires_grad=True)\n",
    "y = torch.rand(4, 1)"
   ]
  },
  {
   "cell_type": "code",
   "execution_count": 54,
   "id": "6081ccc6-a21a-49d5-9142-00b3c1542b17",
   "metadata": {},
   "outputs": [
    {
     "data": {
      "text/plain": [
       "tensor([[1.5702],\n",
       "        [1.5010],\n",
       "        [1.3708],\n",
       "        [1.0863]], grad_fn=<MmBackward0>)"
      ]
     },
     "execution_count": 54,
     "metadata": {},
     "output_type": "execute_result"
    }
   ],
   "source": [
    "h = X@W\n",
    "h"
   ]
  },
  {
   "cell_type": "code",
   "execution_count": 55,
   "id": "02e30331-7f11-417a-82ee-5c59bb9d993b",
   "metadata": {},
   "outputs": [
    {
     "data": {
      "text/plain": [
       "tensor([[-1.1408],\n",
       "        [-0.6156],\n",
       "        [-0.7969],\n",
       "        [-0.8197]], grad_fn=<SubBackward0>)"
      ]
     },
     "execution_count": 55,
     "metadata": {},
     "output_type": "execute_result"
    }
   ],
   "source": [
    "loss = y-h\n",
    "loss"
   ]
  },
  {
   "cell_type": "code",
   "execution_count": 56,
   "id": "98931e58-bb68-4e23-b4ce-d28299162274",
   "metadata": {},
   "outputs": [],
   "source": [
    "loss = loss.mean()"
   ]
  },
  {
   "cell_type": "code",
   "execution_count": 57,
   "id": "f0ac9180-d1b0-4a41-ae53-8cd8aaa32dde",
   "metadata": {},
   "outputs": [
    {
     "data": {
      "text/plain": [
       "tensor(-0.8433, grad_fn=<MeanBackward0>)"
      ]
     },
     "execution_count": 57,
     "metadata": {},
     "output_type": "execute_result"
    }
   ],
   "source": [
    "loss"
   ]
  },
  {
   "cell_type": "code",
   "execution_count": 58,
   "id": "11ca70d7-cb91-49c9-8b65-616f0944b79f",
   "metadata": {},
   "outputs": [],
   "source": [
    "W.grad"
   ]
  },
  {
   "cell_type": "code",
   "execution_count": 59,
   "id": "4d058ef5-3d6f-4496-bf09-235417a21296",
   "metadata": {},
   "outputs": [],
   "source": [
    "loss.backward()"
   ]
  },
  {
   "cell_type": "code",
   "execution_count": 60,
   "id": "d36e248b-c57f-49a7-bb78-c6ffdedb8464",
   "metadata": {},
   "outputs": [
    {
     "data": {
      "text/plain": [
       "tensor([[-0.5578],\n",
       "        [-0.7584],\n",
       "        [-0.6295]])"
      ]
     },
     "execution_count": 60,
     "metadata": {},
     "output_type": "execute_result"
    }
   ],
   "source": [
    "W.grad"
   ]
  },
  {
   "cell_type": "markdown",
   "id": "f5403201-c486-410d-a267-f713136dbdbe",
   "metadata": {},
   "source": [
    "The above **is averaged!** Let's prove them below."
   ]
  },
  {
   "cell_type": "markdown",
   "id": "d55e4bc9-df1c-4380-bd35-8b504b8316b0",
   "metadata": {},
   "source": [
    "# One by one"
   ]
  },
  {
   "cell_type": "code",
   "execution_count": 61,
   "id": "4fe1abff-5469-444a-8b76-cdd7d0c651d0",
   "metadata": {},
   "outputs": [],
   "source": [
    "seed = torch.manual_seed(42)\n",
    "X = torch.rand(4, 3, requires_grad=True)\n",
    "W = torch.rand(3, 1, requires_grad=True)\n",
    "y = torch.rand(4, 1)"
   ]
  },
  {
   "cell_type": "code",
   "execution_count": 62,
   "id": "88e51ef5-ab08-46d2-8574-2a6b2a177699",
   "metadata": {},
   "outputs": [
    {
     "data": {
      "text/plain": [
       "tensor([[1.5702]], grad_fn=<MmBackward0>)"
      ]
     },
     "execution_count": 62,
     "metadata": {},
     "output_type": "execute_result"
    }
   ],
   "source": [
    "h_first = X[[0]] @ W\n",
    "h_first"
   ]
  },
  {
   "cell_type": "markdown",
   "id": "2bcfd853-9213-4ac3-820b-4699b97fba2f",
   "metadata": {},
   "source": [
    "Note that the above is the same as the one in the batch. Of course, it has to be."
   ]
  },
  {
   "cell_type": "code",
   "execution_count": 63,
   "id": "578595f2-e196-4f7b-94a2-60f03e52da18",
   "metadata": {},
   "outputs": [
    {
     "data": {
      "text/plain": [
       "tensor([[-1.1408]], grad_fn=<SubBackward0>)"
      ]
     },
     "execution_count": 63,
     "metadata": {},
     "output_type": "execute_result"
    }
   ],
   "source": [
    "loss_first = y[0] - h_first\n",
    "loss_first"
   ]
  },
  {
   "cell_type": "code",
   "execution_count": 64,
   "id": "bdd32a6e-8b6b-417b-b43d-d14f67fba9e2",
   "metadata": {},
   "outputs": [],
   "source": [
    "loss_first.sum().backward()"
   ]
  },
  {
   "cell_type": "code",
   "execution_count": 65,
   "id": "c1149132-1424-44af-b307-8dc6279c2f8e",
   "metadata": {},
   "outputs": [
    {
     "data": {
      "text/plain": [
       "tensor([[-0.8823],\n",
       "        [-0.9150],\n",
       "        [-0.3829]])"
      ]
     },
     "execution_count": 65,
     "metadata": {},
     "output_type": "execute_result"
    }
   ],
   "source": [
    "# For the first - time\n",
    "grad_first = W.grad\n",
    "grad_first"
   ]
  },
  {
   "cell_type": "code",
   "execution_count": 66,
   "id": "6e33a7c3-4598-44c7-a9c6-f1bfa4ca8786",
   "metadata": {},
   "outputs": [
    {
     "data": {
      "text/plain": [
       "(tensor([[-0.8823],\n",
       "         [-0.9150],\n",
       "         [-0.3829]]),\n",
       " tensor([[-0.9593],\n",
       "         [-0.3904],\n",
       "         [-0.6009]]),\n",
       " tensor([[-0.2566],\n",
       "         [-0.7936],\n",
       "         [-0.9408]]),\n",
       " tensor([[-0.1332],\n",
       "         [-0.9346],\n",
       "         [-0.5936]]))"
      ]
     },
     "execution_count": 66,
     "metadata": {},
     "output_type": "execute_result"
    }
   ],
   "source": [
    "# let's do the same for other records\n",
    "\n",
    "W.grad = None\n",
    "h_second = X[[1]] @ W\n",
    "loss_second = y[1] - h_second\n",
    "loss_second.sum().backward()\n",
    "grad_second = W.grad\n",
    "\n",
    "W.grad = None\n",
    "h_third = X[[2]] @ W\n",
    "loss_third = y[2] - h_third\n",
    "loss_third.sum().backward()\n",
    "grad_third = W.grad\n",
    "\n",
    "W.grad = None\n",
    "h_forth = X[[3]] @ W\n",
    "loss_forth = y[3] - h_forth\n",
    "loss_forth.sum().backward()\n",
    "grad_forth = W.grad\n",
    "\n",
    "grad_first, grad_second, grad_third, grad_forth"
   ]
  },
  {
   "cell_type": "markdown",
   "id": "4d1e6596-3ddf-477f-9fc2-15db3f537a5b",
   "metadata": {},
   "source": [
    "> Now... let's average them."
   ]
  },
  {
   "cell_type": "code",
   "execution_count": 67,
   "id": "29da9d37-ae09-481c-8e86-79b6c540dfb9",
   "metadata": {},
   "outputs": [
    {
     "data": {
      "text/plain": [
       "tensor([[-2.2313],\n",
       "        [-3.0337],\n",
       "        [-2.5181]])"
      ]
     },
     "execution_count": 67,
     "metadata": {},
     "output_type": "execute_result"
    }
   ],
   "source": [
    "grad_first + grad_second + grad_third + grad_forth"
   ]
  },
  {
   "cell_type": "code",
   "execution_count": 69,
   "id": "6744d47f-155c-489b-a906-84561b3eb773",
   "metadata": {},
   "outputs": [
    {
     "data": {
      "text/plain": [
       "tensor([[-0.5578],\n",
       "        [-0.7584],\n",
       "        [-0.6295]])"
      ]
     },
     "execution_count": 69,
     "metadata": {},
     "output_type": "execute_result"
    }
   ],
   "source": [
    "# This is the true one -- which matches our automatic one\n",
    "(grad_first + grad_second + grad_third + grad_forth) / 4"
   ]
  },
  {
   "cell_type": "markdown",
   "id": "11b7e613-1d2f-433b-8537-98b7f31ed2dd",
   "metadata": {},
   "source": [
    "# Cool!"
   ]
  }
 ],
 "metadata": {
  "kernelspec": {
   "display_name": "Python 3 (ipykernel)",
   "language": "python",
   "name": "python3"
  },
  "language_info": {
   "codemirror_mode": {
    "name": "ipython",
    "version": 3
   },
   "file_extension": ".py",
   "mimetype": "text/x-python",
   "name": "python",
   "nbconvert_exporter": "python",
   "pygments_lexer": "ipython3",
   "version": "3.9.19"
  }
 },
 "nbformat": 4,
 "nbformat_minor": 5
}
