{
 "cells": [
  {
   "cell_type": "markdown",
   "id": "4f0c28dd-1e7f-429f-9040-fff4497b0ef4",
   "metadata": {},
   "source": [
    "## This book is specially dedicated to understand the mechanics behind the HOG technique\n",
    "\n",
    "The HOG stands for *Histogram Oriented Gradients*. Let's see how that goes.\n",
    "- Reference [Medium article](https://medium.com/analytics-vidhya/a-gentle-introduction-into-the-histogram-of-oriented-gradients-fdee9ed8f2aa)"
   ]
  },
  {
   "cell_type": "markdown",
   "id": "11677f8f-2ada-4545-80af-d72e51b4a0ef",
   "metadata": {},
   "source": [
    "Leave it. It's okay."
   ]
  }
 ],
 "metadata": {
  "kernelspec": {
   "display_name": "Python 3 (ipykernel)",
   "language": "python",
   "name": "python3"
  },
  "language_info": {
   "codemirror_mode": {
    "name": "ipython",
    "version": 3
   },
   "file_extension": ".py",
   "mimetype": "text/x-python",
   "name": "python",
   "nbconvert_exporter": "python",
   "pygments_lexer": "ipython3",
   "version": "3.9.19"
  }
 },
 "nbformat": 4,
 "nbformat_minor": 5
}
