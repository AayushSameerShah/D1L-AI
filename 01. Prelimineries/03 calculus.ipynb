{
 "cells": [
  {
   "cell_type": "markdown",
   "id": "fb1c337f",
   "metadata": {
    "origin_pos": 1
   },
   "source": [
    "# Calculus\n",
    ":label:`sec_calculus`\n",
    "\n",
    "For a long time, how to calculate \n",
    "the area of a circle remained a mystery.\n",
    "Then, in Ancient Greece, the mathematician Archimedes\n",
    "came up with the clever idea \n",
    "to inscribe a series of polygons \n",
    "with increasing numbers of vertices\n",
    "on the inside of a circle\n",
    "(:numref:`fig_circle_area`). \n",
    "For a polygon with $n$ vertices,\n",
    "we obtain $n$ triangles.\n",
    "The height of each triangle approaches the radius $r$ \n",
    "as we partition the circle more finely. \n",
    "At the same time, its base approaches $2 \\pi r/n$, \n",
    "since the ratio between arc and secant approaches 1 \n",
    "for a large number of vertices. \n",
    "Thus, the area of the polygon approaches\n",
    "$n \\cdot r \\cdot \\frac{1}{2} (2 \\pi r/n) = \\pi r^2$.\n",
    "\n",
    "![Finding the area of a circle as a limit procedure.](../img/polygon-circle.svg)\n",
    ":label:`fig_circle_area`\n",
    "\n",
    "This limiting procedure is at the root of both \n",
    "*differential calculus* and *integral calculus*. \n",
    "The former can tell us how to increase\n",
    "or decrease a function's value by\n",
    "manipulating its arguments. \n",
    "This comes in handy for the *optimization problems*\n",
    "that we face in deep learning,\n",
    "where we repeatedly update our parameters \n",
    "in order to decrease the loss function.\n",
    "Optimization addresses how to fit our models to training data,\n",
    "and calculus is its key prerequisite.\n",
    "However, do not forget that our ultimate goal\n",
    "is to perform well on *previously unseen* data.\n",
    "That problem is called *generalization*\n",
    "and will be a key focus of other chapters.\n"
   ]
  },
  {
   "cell_type": "code",
   "execution_count": 1,
   "id": "5162883d",
   "metadata": {
    "origin_pos": 3,
    "tab": [
     "pytorch"
    ]
   },
   "outputs": [],
   "source": [
    "%matplotlib inline\n",
    "import numpy as np\n",
    "from matplotlib_inline import backend_inline\n",
    "from d2l import torch as d2l"
   ]
  },
  {
   "cell_type": "markdown",
   "id": "8ad81b23",
   "metadata": {
    "origin_pos": 6
   },
   "source": [
    "## Derivatives and Differentiation\n",
    "\n",
    "Put simply, a *derivative* is the rate of change\n",
    "in a function with respect to changes in its arguments.\n",
    "Derivatives can tell us how rapidly a loss function\n",
    "would increase or decrease were we \n",
    "to *increase* or *decrease* each parameter\n",
    "by an infinitesimally small amount.\n",
    "Formally, for functions $f: \\mathbb{R} \\rightarrow \\mathbb{R}$,\n",
    "that map from scalars to scalars,\n",
    "[**the *derivative* of $f$ at a point $x$ is defined as**]\n",
    "\n",
    "(**$$f'(x) = \\lim_{h \\rightarrow 0} \\frac{f(x+h) - f(x)}{h}.$$**)\n",
    ":eqlabel:`eq_derivative`\n",
    "\n",
    "This term on the right hand side is called a *limit* \n",
    "and it tells us what happens \n",
    "to the value of an expression\n",
    "as a specified variable \n",
    "approaches a particular value.\n",
    "This limit tells us what \n",
    "the ratio between a perturbation $h$\n",
    "and the change in the function value \n",
    "$f(x + h) - f(x)$ converges to \n",
    "as we shrink its size to zero.\n",
    "\n",
    "When $f'(x)$ exists, $f$ is said \n",
    "to be *differentiable* at $x$;\n",
    "and when $f'(x)$ exists for all $x$\n",
    "on a set, e.g., the interval $[a,b]$, \n",
    "we say that $f$ is differentiable on this set.\n",
    "Not all functions are differentiable,\n",
    "including many that we wish to optimize,\n",
    "such as accuracy and the area under the\n",
    "receiving operating characteristic (AUC).\n",
    "However, because computing the derivative of the loss \n",
    "is a crucial step in nearly all \n",
    "algorithms for training deep neural networks,\n",
    "we often optimize a differentiable *surrogate* instead.\n",
    "\n",
    "\n",
    "We can interpret the derivative \n",
    "$f'(x)$\n",
    "as the *instantaneous* rate of change \n",
    "of $f(x)$ with respect to $x$.\n",
    "Let's develop some intuition with an example.\n",
    "(**Define $u = f(x) = 3x^2-4x$.**)\n"
   ]
  },
  {
   "cell_type": "code",
   "execution_count": 2,
   "id": "e351acdb",
   "metadata": {
    "origin_pos": 8,
    "tab": [
     "pytorch"
    ]
   },
   "outputs": [],
   "source": [
    "def f(x):\n",
    "    return 3 * x ** 2 - 4 * x"
   ]
  },
  {
   "cell_type": "markdown",
   "id": "50148144",
   "metadata": {
    "origin_pos": 11
   },
   "source": [
    "[**Setting $x=1$, we see that $\\frac{f(x+h) - f(x)}{h}$**] (**approaches $2$\n",
    "as $h$ approaches $0$.**)\n",
    "While this experiment lacks \n",
    "the rigor of a mathematical proof,\n",
    "we can quickly see that indeed $f'(1) = 2$.\n"
   ]
  },
  {
   "cell_type": "code",
   "execution_count": 3,
   "id": "7b5e7cf2",
   "metadata": {
    "origin_pos": 12,
    "tab": [
     "pytorch"
    ]
   },
   "outputs": [
    {
     "name": "stdout",
     "output_type": "stream",
     "text": [
      "h=0.10000, numerical limit=2.30000\n",
      "h=0.01000, numerical limit=2.03000\n",
      "h=0.00100, numerical limit=2.00300\n",
      "h=0.00010, numerical limit=2.00030\n",
      "h=0.00001, numerical limit=2.00003\n"
     ]
    }
   ],
   "source": [
    "for h in 10.0**np.arange(-1, -6, -1):\n",
    "    print(f'h={h:.5f}, numerical limit={(f(1+h)-f(1))/h:.5f}')"
   ]
  },
  {
   "cell_type": "code",
   "execution_count": 4,
   "id": "645c8bea-c80b-4332-add8-51d09b4ff5bf",
   "metadata": {},
   "outputs": [
    {
     "data": {
      "image/png": "[encoded data removed]",
      "text/plain": [
       "<Figure size 640x480 with 1 Axes>"
      ]
     },
     "metadata": {},
     "output_type": "display_data"
    }
   ],
   "source": [
    "import matplotlib.pyplot as plt\n",
    "plt.plot(d2l.arange(-10, 11), [f(i) for i in d2l.arange(-10, 11)]);"
   ]
  },
  {
   "cell_type": "markdown",
   "id": "96ed8706-4945-4496-824b-d093ee22e6dc",
   "metadata": {},
   "source": [
    "## Steep-ness 🔥🔥\n",
    "\n",
    "In common words, the **The derivative of a function at a point tells you how steep the function is at that point.**.\n",
    "\n",
    "As we can see above, we have a parabola, so **higher the value of x is, the steeper the function is!**. So, for example if you choose the `x=1` then it has `steepnes of 2` but if for example `x=25` then `steepness is 146`.\n",
    "\n",
    "But as we can see that in the function viz above, the steepness at `0` is `0`. So..."
   ]
  },
  {
   "cell_type": "code",
   "execution_count": 5,
   "id": "14e18eef-6db6-4d7a-892d-f360fae04032",
   "metadata": {},
   "outputs": [
    {
     "data": {
      "text/plain": [
       "146.00003000850847"
      ]
     },
     "execution_count": 5,
     "metadata": {},
     "output_type": "execute_result"
    }
   ],
   "source": [
    "(f(25+h)-f(25))/h"
   ]
  },
  {
   "cell_type": "code",
   "execution_count": 6,
   "id": "1034cd0f-1f44-485f-bd96-c07635f050fc",
   "metadata": {},
   "outputs": [
    {
     "data": {
      "text/plain": [
       "-3.99997"
      ]
     },
     "execution_count": 6,
     "metadata": {},
     "output_type": "execute_result"
    }
   ],
   "source": [
    "(f(0+h)-f(0))/h"
   ]
  },
  {
   "cell_type": "code",
   "execution_count": 7,
   "id": "8331d3ea-bf84-4626-bd8a-f07a96d5e718",
   "metadata": {},
   "outputs": [
    {
     "data": {
      "text/plain": [
       "0.0020300000125317297"
      ]
     },
     "execution_count": 7,
     "metadata": {},
     "output_type": "execute_result"
    }
   ],
   "source": [
    "value = .667\n",
    "(f(value+h)-f(value))/h"
   ]
  },
  {
   "cell_type": "code",
   "execution_count": 8,
   "id": "146d6736-d5ec-493b-a6cf-8871a13dd926",
   "metadata": {},
   "outputs": [
    {
     "data": {
      "text/plain": [
       "-1.333333"
      ]
     },
     "execution_count": 8,
     "metadata": {},
     "output_type": "execute_result"
    }
   ],
   "source": [
    "f(.667)"
   ]
  },
  {
   "cell_type": "markdown",
   "id": "775022a3-b425-431d-b286-23dd68e569e2",
   "metadata": {},
   "source": [
    "Thus... above shows `0.667` is the best parameter value for this function to have loss 0."
   ]
  },
  {
   "cell_type": "markdown",
   "id": "0be7fece",
   "metadata": {
    "origin_pos": 13
   },
   "source": [
    "There are several equivalent notational conventions for derivatives.\n",
    "Given $y = f(x)$, the following expressions are equivalent:\n",
    "\n",
    "$$f'(x) = y' = \\frac{dy}{dx} = \\frac{df}{dx} = \\frac{d}{dx} f(x) = Df(x) = D_x f(x),$$\n",
    "\n",
    "where the symbols $\\frac{d}{dx}$ and $D$ are *differentiation operators*.\n",
    "Below, we present the derivatives of some common functions:\n",
    "\n",
    "$$\\begin{aligned} \\frac{d}{dx} C & = 0 && \\textrm{for any constant $C$} \\\\ \\frac{d}{dx} x^n & = n x^{n-1} && \\textrm{for } n \\neq 0 \\\\ \\frac{d}{dx} e^x & = e^x \\\\ \\frac{d}{dx} \\ln x & = x^{-1}. \\end{aligned}$$"
   ]
  },
  {
   "cell_type": "markdown",
   "id": "2a9365d0-97db-442d-b49e-aa3f3b71cca5",
   "metadata": {},
   "source": [
    "## Trying the above stuff ☝🏻"
   ]
  },
  {
   "cell_type": "code",
   "execution_count": 9,
   "id": "3e18b228-64e3-4597-b844-4ed430d065a7",
   "metadata": {},
   "outputs": [
    {
     "data": {
      "text/plain": [
       "0.0"
      ]
     },
     "execution_count": 9,
     "metadata": {},
     "output_type": "execute_result"
    }
   ],
   "source": [
    "# FIRST\n",
    "def f(x):\n",
    "    return 42 # any constant\n",
    "\n",
    "h = 0.000001\n",
    "value = 123\n",
    "((f(value+h)) - f(value))/h"
   ]
  },
  {
   "cell_type": "code",
   "execution_count": 10,
   "id": "e4b5f6e8-4f7d-4e32-8c47-52c15a5ddeec",
   "metadata": {},
   "outputs": [
    {
     "data": {
      "text/plain": [
       "2222.000155597925"
      ]
     },
     "execution_count": 10,
     "metadata": {},
     "output_type": "execute_result"
    }
   ],
   "source": [
    "# SECOND\n",
    "def f(x,n):\n",
    "    return x**n\n",
    "\n",
    "h = 0.000001\n",
    "value = 1111\n",
    "n = 2\n",
    "((f(value+h,n)) - (f(value,n)))/h # note: it is f(value + h, n) and not f(value, n)+h"
   ]
  },
  {
   "cell_type": "code",
   "execution_count": 11,
   "id": "95f0c018-ee4c-49ea-8db3-c562d7e404ae",
   "metadata": {},
   "outputs": [
    {
     "data": {
      "text/plain": [
       "2222"
      ]
     },
     "execution_count": 11,
     "metadata": {},
     "output_type": "execute_result"
    }
   ],
   "source": [
    "n*(value**(n-1))"
   ]
  },
  {
   "cell_type": "code",
   "execution_count": 12,
   "id": "89428054-d54f-4bd8-8cb2-02da82e95ba7",
   "metadata": {},
   "outputs": [
    {
     "data": {
      "text/plain": [
       "1.1308849863223003"
      ]
     },
     "execution_count": 12,
     "metadata": {},
     "output_type": "execute_result"
    }
   ],
   "source": [
    "# THIRD\n",
    "def f(x):\n",
    "    return np.exp(x)\n",
    "\n",
    "h = 0.000001\n",
    "value = 0.123\n",
    "((f(value+h)) - (f(value)))/h # note: it is f(value + h, n) and not f(value, n)+h"
   ]
  },
  {
   "cell_type": "code",
   "execution_count": 13,
   "id": "19b3d997-d825-4996-975c-7135d4d75a97",
   "metadata": {},
   "outputs": [
    {
     "data": {
      "text/plain": [
       "1.1308844209474893"
      ]
     },
     "execution_count": 13,
     "metadata": {},
     "output_type": "execute_result"
    }
   ],
   "source": [
    "np.exp(value)"
   ]
  },
  {
   "cell_type": "code",
   "execution_count": 14,
   "id": "d11cdb7f-a243-4e1c-b483-e5c64b88910b",
   "metadata": {},
   "outputs": [
    {
     "data": {
      "text/plain": [
       "8.13004825195307"
      ]
     },
     "execution_count": 14,
     "metadata": {},
     "output_type": "execute_result"
    }
   ],
   "source": [
    "# FORTH\n",
    "def f(x):\n",
    "    return np.log(x)\n",
    "\n",
    "h = 0.000001\n",
    "value = 0.123\n",
    "((f(value+h)) - (f(value)))/h # note: it is f(value + h, n) and not f(value, n)+h"
   ]
  },
  {
   "cell_type": "code",
   "execution_count": 15,
   "id": "84e4e4d1-2332-4382-a751-fd1fabe9fa89",
   "metadata": {},
   "outputs": [
    {
     "data": {
      "text/plain": [
       "8.130081300813009"
      ]
     },
     "execution_count": 15,
     "metadata": {},
     "output_type": "execute_result"
    }
   ],
   "source": [
    "value ** -1"
   ]
  },
  {
   "cell_type": "markdown",
   "id": "fd047bee-8946-4525-847d-80bc308e1c50",
   "metadata": {},
   "source": [
    "\n",
    "Functions composed from differentiable functions \n",
    "are often themselves differentiable.\n",
    "The following rules come in handy \n",
    "for working with compositions \n",
    "of any differentiable functions \n",
    "$f$ and $g$, and constant $C$.\n",
    "\n",
    "$$\\begin{aligned} \\frac{d}{dx} [C f(x)] & = C \\frac{d}{dx} f(x) && \\textrm{Constant multiple rule} \\\\ \\frac{d}{dx} [f(x) + g(x)] & = \\frac{d}{dx} f(x) + \\frac{d}{dx} g(x) && \\textrm{Sum rule} \\\\ \\frac{d}{dx} [f(x) g(x)] & = f(x) \\frac{d}{dx} g(x) + g(x) \\frac{d}{dx} f(x) && \\textrm{Product rule} \\\\ \\frac{d}{dx} \\frac{f(x)}{g(x)} & = \\frac{g(x) \\frac{d}{dx} f(x) - f(x) \\frac{d}{dx} g(x)}{g^2(x)} && \\textrm{Quotient rule} \\end{aligned}$$\n",
    "\n",
    "Using this, we can apply the rules \n",
    "to find the derivative of $3 x^2 - 4x$ via\n",
    "\n",
    "$$\\frac{d}{dx} [3 x^2 - 4x] = 3 \\frac{d}{dx} x^2 - 4 \\frac{d}{dx} x = 6x - 4.$$\n",
    "\n",
    "Plugging in $x = 1$ shows that, indeed, \n",
    "the derivative equals $2$ at this location. \n",
    "Note that derivatives tell us \n",
    "the *slope* of a function \n",
    "at a particular location.  \n"
   ]
  },
  {
   "cell_type": "markdown",
   "id": "92793bec-9d34-4657-a9a9-05c6abee3c48",
   "metadata": {},
   "source": [
    "# ☝🏻 Let's not let that slide.\n",
    "\n",
    "Let's break down this passage into simpler terms, focusing on the key concepts and the rules for finding derivatives of composed functions.\n",
    "\n",
    "### Composition of Differentiable Functions\n",
    "\n",
    "When you combine (compose) functions that are differentiable, the resulting function is often also differentiable. This means you can find derivatives of these composed functions using specific rules. \n",
    "\n",
    "### Rules for Differentiation\n",
    "\n",
    "Here are the important rules mentioned in your text, along with a simplified explanation of each:\n",
    "\n",
    "1. **Constant Multiple Rule**: \n",
    "   $$\\frac{d}{dx} [C f(x)] = C \\frac{d}{dx} f(x)$$\n",
    "   - **Explanation**: If you multiply a function \\( f(x) \\) by a constant \\( C \\), the derivative is just the constant multiplied by the derivative of the function. The constant does not affect the shape of the function; it just scales it.\n",
    "\n",
    "2. **Sum Rule**: \n",
    "   $$ \\frac{d}{dx} [f(x) + g(x)] = \\frac{d}{dx} f(x) + \\frac{d}{dx} g(x) $$\n",
    "   - **Explanation**: If you have two functions added together, the derivative of the sum is the sum of the derivatives. Each function contributes separately to the overall slope.\n",
    "\n",
    "3. **Product Rule**: \n",
    "   $$ \\frac{d}{dx} [f(x) g(x)] = f(x) \\frac{d}{dx} g(x) + g(x) \\frac{d}{dx} f(x) $$\n",
    "   - **Explanation**: When you multiply two functions together, you can’t just take the derivative of each separately and multiply them. Instead, you take the first function \\( f(x) \\) and multiply it by the derivative of the second \\( g(x) \\), and then add it to the second function \\( g(x) \\) multiplied by the derivative of the first \\( f(x) \\).\n",
    "\n",
    "4. **Quotient Rule**: \n",
    "   $$ \\frac{d}{dx} \\frac{f(x)}{g(x)} = \\frac{g(x) \\frac{d}{dx} f(x) - f(x) \\frac{d}{dx} g(x)}{g^2(x)} $$\n",
    "   - **Explanation**: For dividing one function by another, you can’t just divide their derivatives. Instead, the derivative of a quotient involves multiplying the bottom function by the derivative of the top function and subtracting the top function multiplied by the derivative of the bottom function, all over the square of the bottom function."
   ]
  },
  {
   "cell_type": "markdown",
   "id": "eec0353c-73a1-4320-81cb-1fbdd818217a",
   "metadata": {},
   "source": [
    "### RULE 1️⃣: Constant Multiple Rule"
   ]
  },
  {
   "cell_type": "code",
   "execution_count": 130,
   "id": "6687f642-ff5b-43c8-abb5-642728eb26fb",
   "metadata": {},
   "outputs": [],
   "source": [
    "def derivative(function, value):\n",
    "    h = d2l.tensor(0.00001)\n",
    "    return ((function(value+h)) - (function(value))) / h"
   ]
  },
  {
   "cell_type": "code",
   "execution_count": 131,
   "id": "41bd1abd-5fcc-4a65-927d-8da9c3977f67",
   "metadata": {},
   "outputs": [],
   "source": [
    "## Some function\n",
    "def function_1(x):\n",
    "    return x + 2*x"
   ]
  },
  {
   "cell_type": "code",
   "execution_count": 132,
   "id": "64d0b482-fe5b-4e5e-a71c-66427debb66b",
   "metadata": {},
   "outputs": [
    {
     "data": {
      "text/plain": [
       "tensor(0.)"
      ]
     },
     "execution_count": 132,
     "metadata": {},
     "output_type": "execute_result"
    }
   ],
   "source": [
    "# so this function will have its own derivative\n",
    "value = 666\n",
    "derivative(function_1, value)"
   ]
  },
  {
   "cell_type": "code",
   "execution_count": 19,
   "id": "f46abd83-fce2-4067-8e4e-ace26302762e",
   "metadata": {},
   "outputs": [],
   "source": [
    "## The constant function\n",
    "# So as you know the \"constant has derivative of 0\"\n",
    "def constant_function(x):\n",
    "    return 42 # constant"
   ]
  },
  {
   "cell_type": "code",
   "execution_count": 20,
   "id": "610a5874-4ece-48e8-bb49-8039aca0d875",
   "metadata": {},
   "outputs": [
    {
     "data": {
      "text/plain": [
       "0.0"
      ]
     },
     "execution_count": 20,
     "metadata": {},
     "output_type": "execute_result"
    }
   ],
   "source": [
    "derivative(constant_function, value)"
   ]
  },
  {
   "cell_type": "code",
   "execution_count": 21,
   "id": "8e4231b5-a427-4c97-8dda-531e8b9effd6",
   "metadata": {},
   "outputs": [],
   "source": [
    "### \n",
    "#   RULE: If you multiply a function ( f(x) ) by a constant ( C ), \n",
    "#   the derivative is just the constant multiplied by the derivative of the function. \n",
    "#   The constant does not affect the shape of the function; it just scales it.\n",
    "###\n",
    "\n",
    "def constant_multiplication_rule(value):\n",
    "    return function_1(value) * constant_function(value)"
   ]
  },
  {
   "cell_type": "code",
   "execution_count": 22,
   "id": "06c5ee76-c323-49d7-b0f2-73e2178da3f6",
   "metadata": {},
   "outputs": [
    {
     "data": {
      "text/plain": [
       "126.00000009115318"
      ]
     },
     "execution_count": 22,
     "metadata": {},
     "output_type": "execute_result"
    }
   ],
   "source": [
    "value = 123\n",
    "derivative(constant_multiplication_rule, value)"
   ]
  },
  {
   "cell_type": "markdown",
   "id": "4311d0a1-2729-4bd7-b48a-7a189f817dd6",
   "metadata": {},
   "source": [
    "> Which indeed is 👇🏻"
   ]
  },
  {
   "cell_type": "code",
   "execution_count": 23,
   "id": "894d8b1f-6459-41c0-9f91-fe5f36d5f516",
   "metadata": {},
   "outputs": [
    {
     "data": {
      "text/plain": [
       "126.00000015936529"
      ]
     },
     "execution_count": 23,
     "metadata": {},
     "output_type": "execute_result"
    }
   ],
   "source": [
    "derivative(function_1, value) * constant_function(value)"
   ]
  },
  {
   "cell_type": "markdown",
   "id": "db6c4a3c-e4fe-4aae-b9ed-f7633c6fba4c",
   "metadata": {},
   "source": [
    "### RULE 2️⃣: Sum rule"
   ]
  },
  {
   "cell_type": "code",
   "execution_count": 24,
   "id": "edc7dbf3-6f1c-4a62-9057-6450d25f55cc",
   "metadata": {},
   "outputs": [],
   "source": [
    "## Some function\n",
    "def function_1(x):\n",
    "    return x + 2*x\n",
    "\n",
    "## literally any function\n",
    "def function_2(x):\n",
    "    return 2*x - np.exp(x)"
   ]
  },
  {
   "cell_type": "code",
   "execution_count": 25,
   "id": "6025dcfd-0623-419a-9875-c7d92b49c25a",
   "metadata": {},
   "outputs": [
    {
     "data": {
      "text/plain": [
       "(2.9999999999752442, -0.4596154091762727)"
      ]
     },
     "execution_count": 25,
     "metadata": {},
     "output_type": "execute_result"
    }
   ],
   "source": [
    "value = .90\n",
    "derivative(function_1, value), derivative(function_2, value)"
   ]
  },
  {
   "cell_type": "code",
   "execution_count": 26,
   "id": "cac4e035-15c7-490d-91c5-32d7dc2fd911",
   "metadata": {},
   "outputs": [],
   "source": [
    "### \n",
    "#   RULE: If you have two functions added together, \n",
    "#   the derivative of the sum is the sum of the derivatives. \n",
    "#   Each function contributes separately to the overall slope.\n",
    "###\n",
    "\n",
    "def sum_rule(value):\n",
    "    return function_1(value) + function_2(value)"
   ]
  },
  {
   "cell_type": "code",
   "execution_count": 27,
   "id": "bfab8424-5bf0-4388-a21c-73cad52fae0d",
   "metadata": {},
   "outputs": [
    {
     "data": {
      "text/plain": [
       "2.5403845908211764"
      ]
     },
     "execution_count": 27,
     "metadata": {},
     "output_type": "execute_result"
    }
   ],
   "source": [
    "derivative(sum_rule, value)"
   ]
  },
  {
   "cell_type": "markdown",
   "id": "ae613cb0-725e-4205-81f5-df44c28a579f",
   "metadata": {},
   "source": [
    "> Which indeed is 👇🏻"
   ]
  },
  {
   "cell_type": "code",
   "execution_count": 28,
   "id": "743847b7-5deb-45cf-829e-db4735c5fe04",
   "metadata": {},
   "outputs": [
    {
     "data": {
      "text/plain": [
       "2.5403845907989715"
      ]
     },
     "execution_count": 28,
     "metadata": {},
     "output_type": "execute_result"
    }
   ],
   "source": [
    "derivative(function_1, value) + derivative(function_2, value)"
   ]
  },
  {
   "cell_type": "markdown",
   "id": "5d3fe60d-f4db-4bd3-ab30-18844cc80f81",
   "metadata": {},
   "source": [
    "### RULE 3️⃣: Product Rule"
   ]
  },
  {
   "cell_type": "code",
   "execution_count": 29,
   "id": "1bfb55b2-1e1a-43f7-a9ae-0e67fa309514",
   "metadata": {},
   "outputs": [],
   "source": [
    "## Some function\n",
    "def function_1(x):\n",
    "    return x + 2*x\n",
    "\n",
    "## literally any function\n",
    "def function_2(x):\n",
    "    return 2*x - np.exp(x)"
   ]
  },
  {
   "cell_type": "code",
   "execution_count": 30,
   "id": "d988b0d1-718e-47e8-bc95-6037ccd98fd1",
   "metadata": {},
   "outputs": [
    {
     "data": {
      "text/plain": [
       "(2.9999999999752442, -0.4596154091762727)"
      ]
     },
     "execution_count": 30,
     "metadata": {},
     "output_type": "execute_result"
    }
   ],
   "source": [
    "value = .90\n",
    "derivative(function_1, value), derivative(function_2, value)"
   ]
  },
  {
   "cell_type": "code",
   "execution_count": 31,
   "id": "347a47ee-fff1-4015-8871-14d5dcbc2cab",
   "metadata": {},
   "outputs": [],
   "source": [
    "### \n",
    "#   RULE: When you multiply two functions together, \n",
    "#   you can’t just take the derivative of each separately and multiply them. \n",
    "#   Instead, you take the first function \\( f(x) \\) and multiply it by the \n",
    "#   derivative of the second \\( g(x) \\), and then add it to the second function \n",
    "#   \\( g(x) \\) multiplied by the derivative of the first \\( f(x) \\).\n",
    "###\n",
    "\n",
    "def product_rule(value):\n",
    "    return function_1(value) * function_2(value)"
   ]
  },
  {
   "cell_type": "code",
   "execution_count": 32,
   "id": "2b982958-f5e5-4421-abd3-751e7f407e6f",
   "metadata": {},
   "outputs": [
    {
     "data": {
      "text/plain": [
       "-3.219784726682384"
      ]
     },
     "execution_count": 32,
     "metadata": {},
     "output_type": "execute_result"
    }
   ],
   "source": [
    "derivative(product_rule, value)"
   ]
  },
  {
   "cell_type": "markdown",
   "id": "5c739524-9c0e-4cd8-8629-05079ebcb24e",
   "metadata": {},
   "source": [
    "> Which indeed is 👇🏻"
   ]
  },
  {
   "cell_type": "code",
   "execution_count": 33,
   "id": "6c0230ad-17fd-4f9e-85dd-29843300a966",
   "metadata": {},
   "outputs": [
    {
     "data": {
      "text/plain": [
       "-3.219770938230457"
      ]
     },
     "execution_count": 33,
     "metadata": {},
     "output_type": "execute_result"
    }
   ],
   "source": [
    "(derivative(function_1, value) * function_2(value))   +   (derivative(function_2, value) * function_1(value))"
   ]
  },
  {
   "cell_type": "markdown",
   "id": "8d2cf28d-c97e-4887-a1e9-6c7dbf7c5be6",
   "metadata": {},
   "source": [
    "### RULE 4️⃣: Quotient Rule"
   ]
  },
  {
   "cell_type": "code",
   "execution_count": 34,
   "id": "b8ba93ec-6272-4d09-a151-ed1a9f582bb3",
   "metadata": {},
   "outputs": [],
   "source": [
    "## Some function\n",
    "def function_1(x):\n",
    "    return x + 2*x\n",
    "\n",
    "## literally any function\n",
    "def function_2(x):\n",
    "    return 2*x - np.exp(x)"
   ]
  },
  {
   "cell_type": "code",
   "execution_count": 35,
   "id": "8d27a5b1-90ab-4437-b468-571076339ff9",
   "metadata": {},
   "outputs": [
    {
     "data": {
      "text/plain": [
       "(2.9999999999752442, -0.4596154091762727)"
      ]
     },
     "execution_count": 35,
     "metadata": {},
     "output_type": "execute_result"
    }
   ],
   "source": [
    "value = .90\n",
    "derivative(function_1, value), derivative(function_2, value)"
   ]
  },
  {
   "cell_type": "code",
   "execution_count": 36,
   "id": "a57a4d66-98c7-4dd0-97f4-62bd553d8bc1",
   "metadata": {},
   "outputs": [],
   "source": [
    "### \n",
    "#   RULE: For dividing one function by another, you can’t just divide their derivatives. \n",
    "#   Instead, the derivative of a quotient involves multiplying the bottom function by \n",
    "#   the derivative of the top function and subtracting the top function multiplied by the\n",
    "#   derivative of the bottom function, all over the square of the bottom function.\n",
    "###\n",
    "\n",
    "def quotient_rule(value):\n",
    "    return function_1(value) / function_2(value)"
   ]
  },
  {
   "cell_type": "code",
   "execution_count": 37,
   "id": "d1e13c2b-85f4-495f-8726-3897ba668e92",
   "metadata": {},
   "outputs": [
    {
     "data": {
      "text/plain": [
       "-1.6958925319165983"
      ]
     },
     "execution_count": 37,
     "metadata": {},
     "output_type": "execute_result"
    }
   ],
   "source": [
    "derivative(quotient_rule, value)"
   ]
  },
  {
   "cell_type": "markdown",
   "id": "a825276e-c031-49a8-9799-e0b1994fcaaa",
   "metadata": {},
   "source": [
    "> Which indeed is 👇🏻"
   ]
  },
  {
   "cell_type": "code",
   "execution_count": 38,
   "id": "51854ca5-5c0e-42d8-a571-5fb1b31d8bd9",
   "metadata": {},
   "outputs": [
    {
     "data": {
      "text/plain": [
       "-1.6959043489858658"
      ]
     },
     "execution_count": 38,
     "metadata": {},
     "output_type": "execute_result"
    }
   ],
   "source": [
    "((derivative(function_1, value) * function_2(value))   -   (derivative(function_2, value) * function_1(value))) / function_2(value)**2"
   ]
  },
  {
   "cell_type": "markdown",
   "id": "c38a6b8c-4385-4a47-83a6-d34acdc2dbe6",
   "metadata": {},
   "source": [
    "\n",
    "## Visualization Utilities\n",
    "\n",
    "[**We can visualize the slopes of functions using the `matplotlib` library**].\n",
    "We need to define a few functions. \n",
    "As its name indicates, `use_svg_display` \n",
    "tells `matplotlib` to output graphics \n",
    "in SVG format for crisper images. \n",
    "The comment `#@save` is a special modifier \n",
    "that allows us to save any function, \n",
    "class, or other code block to the `d2l` package \n",
    "so that we can invoke it later \n",
    "without repeating the code, \n",
    "e.g., via `d2l.use_svg_display()`.\n"
   ]
  },
  {
   "cell_type": "code",
   "execution_count": 39,
   "id": "70d92d2a",
   "metadata": {
    "origin_pos": 14,
    "tab": [
     "pytorch"
    ]
   },
   "outputs": [],
   "source": [
    "def use_svg_display():  #@save\n",
    "    \"\"\"Use the svg format to display a plot in Jupyter.\"\"\"\n",
    "    backend_inline.set_matplotlib_formats('svg')"
   ]
  },
  {
   "cell_type": "markdown",
   "id": "ef7c490f",
   "metadata": {
    "origin_pos": 15
   },
   "source": [
    "Conveniently, we can set figure sizes with `set_figsize`. \n",
    "Since the import statement `from matplotlib import pyplot as plt` \n",
    "was marked via `#@save` in the `d2l` package, we can call `d2l.plt`.\n"
   ]
  },
  {
   "cell_type": "code",
   "execution_count": 40,
   "id": "c868cdf6",
   "metadata": {
    "origin_pos": 16,
    "tab": [
     "pytorch"
    ]
   },
   "outputs": [],
   "source": [
    "def set_figsize(figsize=(3.5, 2.5)):  #@save\n",
    "    \"\"\"Set the figure size for matplotlib.\"\"\"\n",
    "    use_svg_display()\n",
    "    d2l.plt.rcParams['figure.figsize'] = figsize"
   ]
  },
  {
   "cell_type": "markdown",
   "id": "f2bd084c",
   "metadata": {
    "origin_pos": 17
   },
   "source": [
    "The `set_axes` function can associate axes\n",
    "with properties, including labels, ranges,\n",
    "and scales.\n"
   ]
  },
  {
   "cell_type": "code",
   "execution_count": 41,
   "id": "8860f929",
   "metadata": {
    "origin_pos": 18,
    "tab": [
     "pytorch"
    ]
   },
   "outputs": [],
   "source": [
    "#@save\n",
    "def set_axes(axes, xlabel, ylabel, xlim, ylim, xscale, yscale, legend):\n",
    "    \"\"\"Set the axes for matplotlib.\"\"\"\n",
    "    axes.set_xlabel(xlabel), axes.set_ylabel(ylabel)\n",
    "    axes.set_xscale(xscale), axes.set_yscale(yscale)\n",
    "    axes.set_xlim(xlim),     axes.set_ylim(ylim)\n",
    "    if legend:\n",
    "        axes.legend(legend)\n",
    "    axes.grid()"
   ]
  },
  {
   "cell_type": "markdown",
   "id": "d8825398",
   "metadata": {
    "origin_pos": 19
   },
   "source": [
    "With these three functions, we can define a `plot` function \n",
    "to overlay multiple curves. \n",
    "Much of the code here is just ensuring \n",
    "that the sizes and shapes of inputs match.\n"
   ]
  },
  {
   "cell_type": "code",
   "execution_count": 42,
   "id": "0d56dd86",
   "metadata": {
    "origin_pos": 20,
    "tab": [
     "pytorch"
    ]
   },
   "outputs": [],
   "source": [
    "#@save\n",
    "def plot(X, Y=None, xlabel=None, ylabel=None, legend=[], xlim=None,\n",
    "         ylim=None, xscale='linear', yscale='linear',\n",
    "         fmts=('-', 'm--', 'g-.', 'r:'), figsize=(3.5, 2.5), axes=None):\n",
    "    \"\"\"Plot data points.\"\"\"\n",
    "\n",
    "    def has_one_axis(X):  # True if X (tensor or list) has 1 axis\n",
    "        return (hasattr(X, \"ndim\") and X.ndim == 1 or isinstance(X, list)\n",
    "                and not hasattr(X[0], \"__len__\"))\n",
    "\n",
    "    if has_one_axis(X): X = [X]\n",
    "    if Y is None:\n",
    "        X, Y = [[]] * len(X), X\n",
    "    elif has_one_axis(Y):\n",
    "        Y = [Y]\n",
    "    if len(X) != len(Y):\n",
    "        X = X * len(Y)\n",
    "\n",
    "    set_figsize(figsize)\n",
    "    if axes is None:\n",
    "        axes = d2l.plt.gca()\n",
    "    axes.cla()\n",
    "    for x, y, fmt in zip(X, Y, fmts):\n",
    "        axes.plot(x,y,fmt) if len(x) else axes.plot(y,fmt)\n",
    "    set_axes(axes, xlabel, ylabel, xlim, ylim, xscale, yscale, legend)"
   ]
  },
  {
   "cell_type": "markdown",
   "id": "68b9ef55",
   "metadata": {
    "origin_pos": 21
   },
   "source": [
    "🔥🔥 \n",
    "\n",
    "Now we can [**plot the function $u = f(x)$ and its tangent line.\n",
    "\n",
    "- But to find that line, we will need to solve something first.\n",
    "\n",
    "1. What is the derivative of that function for the given value `x`\n",
    "2. What is the `y` value for that function\n",
    "3. Then calculate the `b` intersept and we are done.\n"
   ]
  },
  {
   "cell_type": "code",
   "execution_count": 53,
   "id": "90b77cf3-c6b0-4e10-9b7a-b4d056c58500",
   "metadata": {},
   "outputs": [],
   "source": [
    "# This is our function\n",
    "def f(x):\n",
    "    return np.log(x)"
   ]
  },
  {
   "cell_type": "code",
   "execution_count": 57,
   "id": "f23e3244-66fc-4af3-a5f3-81202577797b",
   "metadata": {},
   "outputs": [
    {
     "data": {
      "text/plain": [
       "1.0100959086106405"
      ]
     },
     "execution_count": 57,
     "metadata": {},
     "output_type": "execute_result"
    }
   ],
   "source": [
    "# 1. Derivative == slope == beta\n",
    "derivative(f, .99)"
   ]
  },
  {
   "cell_type": "code",
   "execution_count": 58,
   "id": "cf5796b5-a93e-47be-be6e-d846a9a981fb",
   "metadata": {},
   "outputs": [
    {
     "data": {
      "text/plain": [
       "-0.01005033585350145"
      ]
     },
     "execution_count": 58,
     "metadata": {},
     "output_type": "execute_result"
    }
   ],
   "source": [
    "# 2. y value\n",
    "f(.99)"
   ]
  },
  {
   "cell_type": "code",
   "execution_count": 59,
   "id": "a3672687-a703-4446-aecf-ed383785646e",
   "metadata": {},
   "outputs": [
    {
     "data": {
      "text/plain": [
       "-1.0100452853780355"
      ]
     },
     "execution_count": 59,
     "metadata": {},
     "output_type": "execute_result"
    }
   ],
   "source": [
    "# the equation\n",
    "# y = beta* x + b\n",
    "# f(.99) = derivative(f, .99) * .99 + b\n",
    "b = f(.99) - (derivative(f, .99) * .99)\n",
    "b"
   ]
  },
  {
   "cell_type": "markdown",
   "id": "74b63ef9-6630-414f-9169-59fee584d096",
   "metadata": {},
   "source": [
    "Now we have everything we need. Thus the function is: `y = 1.0100x - 1.0100` (for x=`.99`)"
   ]
  },
  {
   "cell_type": "code",
   "execution_count": 75,
   "id": "1a22ce3a",
   "metadata": {
    "origin_pos": 22,
    "tab": [
     "pytorch"
    ]
   },
   "outputs": [
    {
     "data": {
      "image/svg+xml": [
       "<?xml version=\"1.0\" encoding=\"utf-8\" standalone=\"no\"?>\n",
       "<!DOCTYPE svg PUBLIC \"-//W3C//DTD SVG 1.1//EN\"\n",
       "  \"http://www.w3.org/Graphics/SVG/1.1/DTD/svg11.dtd\">\n",
       "<svg xmlns:xlink=\"http://www.w3.org/1999/xlink\" width=\"617.360937pt\" height=\"614.274375pt\" viewBox=\"0 0 617.360937 614.274375\" xmlns=\"http://www.w3.org/2000/svg\" version=\"1.1\">\n",
       " <metadata>\n",
       "  <rdf:RDF xmlns:dc=\"http://purl.org/dc/elements/1.1/\" xmlns:cc=\"http://creativecommons.org/ns#\" xmlns:rdf=\"http://www.w3.org/1999/02/22-rdf-syntax-ns#\">\n",
       "   <cc:Work>\n",
       "    <dc:type rdf:resource=\"http://purl.org/dc/dcmitype/StillImage\"/>\n",
       "    <dc:date>2024-10-03T22:09:52.007004</dc:date>\n",
       "    <dc:format>image/svg+xml</dc:format>\n",
       "    <dc:creator>\n",
       "     <cc:Agent>\n",
       "      <dc:title>Matplotlib v3.7.2, https://matplotlib.org/</dc:title>\n",
       "     </cc:Agent>\n",
       "    </dc:creator>\n",
       "   </cc:Work>\n",
       "  </rdf:RDF>\n",
       " </metadata>\n",
       " <defs>\n",
       "  <style type=\"text/css\">*{stroke-linejoin: round; stroke-linecap: butt}</style>\n",
       " </defs>\n",
       " <g id=\"figure_1\">\n",
       "  <g id=\"patch_1\">\n",
       "   <path d=\"M 0 614.274375 \n",
       "L 617.360937 614.274375 \n",
       "L 617.360937 0 \n",
       "L 0 0 \n",
       "z\n",
       "\" style=\"fill: #ffffff\"/>\n",
       "  </g>\n",
       "  <g id=\"axes_1\">\n",
       "   <g id=\"patch_2\">\n",
       "    <path d=\"M 52.160938 576.718125 \n",
       "L 610.160938 576.718125 \n",
       "L 610.160938 22.318125 \n",
       "L 52.160938 22.318125 \n",
       "z\n",
       "\" style=\"fill: #ffffff\"/>\n",
       "   </g>\n",
       "   <g id=\"PathCollection_1\">\n",
       "    <defs>\n",
       "     <path id=\"ma6bae0834f\" d=\"M 0 3 \n",
       "C 0.795609 3 1.55874 2.683901 2.12132 2.12132 \n",
       "C 2.683901 1.55874 3 0.795609 3 0 \n",
       "C 3 -0.795609 2.683901 -1.55874 2.12132 -2.12132 \n",
       "C 1.55874 -2.683901 0.795609 -3 0 -3 \n",
       "C -0.795609 -3 -1.55874 -2.683901 -2.12132 -2.12132 \n",
       "C -2.683901 -1.55874 -3 -0.795609 -3 0 \n",
       "C -3 0.795609 -2.683901 1.55874 -2.12132 2.12132 \n",
       "C -1.55874 2.683901 -0.795609 3 0 3 \n",
       "z\n",
       "\" style=\"stroke: #008000\"/>\n",
       "    </defs>\n",
       "    <g clip-path=\"url(#p4897c045dc)\">\n",
       "     <use xlink:href=\"#ma6bae0834f\" x=\"229.706392\" y=\"373.773964\" style=\"fill: #008000; stroke: #008000\"/>\n",
       "    </g>\n",
       "   </g>\n",
       "   <g id=\"matplotlib.axis_1\">\n",
       "    <g id=\"xtick_1\">\n",
       "     <g id=\"line2d_1\">\n",
       "      <path d=\"M 77.524574 576.718125 \n",
       "L 77.524574 22.318125 \n",
       "\" clip-path=\"url(#p4897c045dc)\" style=\"fill: none; stroke: #b0b0b0; stroke-width: 0.8; stroke-linecap: square\"/>\n",
       "     </g>\n",
       "     <g id=\"line2d_2\">\n",
       "      <defs>\n",
       "       <path id=\"me096c71a03\" d=\"M 0 0 \n",
       "L 0 3.5 \n",
       "\" style=\"stroke: #000000; stroke-width: 0.8\"/>\n",
       "      </defs>\n",
       "      <g>\n",
       "       <use xlink:href=\"#me096c71a03\" x=\"77.524574\" y=\"576.718125\" style=\"stroke: #000000; stroke-width: 0.8\"/>\n",
       "      </g>\n",
       "     </g>\n",
       "     <g id=\"text_1\">\n",
       "      <!-- 0.6 -->\n",
       "      <g transform=\"translate(69.573011 591.316563) scale(0.1 -0.1)\">\n",
       "       <defs>\n",
       "        <path id=\"DejaVuSans-30\" d=\"M 2034 4250 \n",
       "Q 1547 4250 1301 3770 \n",
       "Q 1056 3291 1056 2328 \n",
       "Q 1056 1369 1301 889 \n",
       "Q 1547 409 2034 409 \n",
       "Q 2525 409 2770 889 \n",
       "Q 3016 1369 3016 2328 \n",
       "Q 3016 3291 2770 3770 \n",
       "Q 2525 4250 2034 4250 \n",
       "z\n",
       "M 2034 4750 \n",
       "Q 2819 4750 3233 4129 \n",
       "Q 3647 3509 3647 2328 \n",
       "Q 3647 1150 3233 529 \n",
       "Q 2819 -91 2034 -91 \n",
       "Q 1250 -91 836 529 \n",
       "Q 422 1150 422 2328 \n",
       "Q 422 3509 836 4129 \n",
       "Q 1250 4750 2034 4750 \n",
       "z\n",
       "\" transform=\"scale(0.015625)\"/>\n",
       "        <path id=\"DejaVuSans-2e\" d=\"M 684 794 \n",
       "L 1344 794 \n",
       "L 1344 0 \n",
       "L 684 0 \n",
       "L 684 794 \n",
       "z\n",
       "\" transform=\"scale(0.015625)\"/>\n",
       "        <path id=\"DejaVuSans-36\" d=\"M 2113 2584 \n",
       "Q 1688 2584 1439 2293 \n",
       "Q 1191 2003 1191 1497 \n",
       "Q 1191 994 1439 701 \n",
       "Q 1688 409 2113 409 \n",
       "Q 2538 409 2786 701 \n",
       "Q 3034 994 3034 1497 \n",
       "Q 3034 2003 2786 2293 \n",
       "Q 2538 2584 2113 2584 \n",
       "z\n",
       "M 3366 4563 \n",
       "L 3366 3988 \n",
       "Q 3128 4100 2886 4159 \n",
       "Q 2644 4219 2406 4219 \n",
       "Q 1781 4219 1451 3797 \n",
       "Q 1122 3375 1075 2522 \n",
       "Q 1259 2794 1537 2939 \n",
       "Q 1816 3084 2150 3084 \n",
       "Q 2853 3084 3261 2657 \n",
       "Q 3669 2231 3669 1497 \n",
       "Q 3669 778 3244 343 \n",
       "Q 2819 -91 2113 -91 \n",
       "Q 1303 -91 875 529 \n",
       "Q 447 1150 447 2328 \n",
       "Q 447 3434 972 4092 \n",
       "Q 1497 4750 2381 4750 \n",
       "Q 2619 4750 2861 4703 \n",
       "Q 3103 4656 3366 4563 \n",
       "z\n",
       "\" transform=\"scale(0.015625)\"/>\n",
       "       </defs>\n",
       "       <use xlink:href=\"#DejaVuSans-30\"/>\n",
       "       <use xlink:href=\"#DejaVuSans-2e\" x=\"63.623047\"/>\n",
       "       <use xlink:href=\"#DejaVuSans-36\" x=\"95.410156\"/>\n",
       "      </g>\n",
       "     </g>\n",
       "    </g>\n",
       "    <g id=\"xtick_2\">\n",
       "     <g id=\"line2d_3\">\n",
       "      <path d=\"M 155.566532 576.718125 \n",
       "L 155.566532 22.318125 \n",
       "\" clip-path=\"url(#p4897c045dc)\" style=\"fill: none; stroke: #b0b0b0; stroke-width: 0.8; stroke-linecap: square\"/>\n",
       "     </g>\n",
       "     <g id=\"line2d_4\">\n",
       "      <g>\n",
       "       <use xlink:href=\"#me096c71a03\" x=\"155.566532\" y=\"576.718125\" style=\"stroke: #000000; stroke-width: 0.8\"/>\n",
       "      </g>\n",
       "     </g>\n",
       "     <g id=\"text_2\">\n",
       "      <!-- 0.8 -->\n",
       "      <g transform=\"translate(147.614969 591.316563) scale(0.1 -0.1)\">\n",
       "       <defs>\n",
       "        <path id=\"DejaVuSans-38\" d=\"M 2034 2216 \n",
       "Q 1584 2216 1326 1975 \n",
       "Q 1069 1734 1069 1313 \n",
       "Q 1069 891 1326 650 \n",
       "Q 1584 409 2034 409 \n",
       "Q 2484 409 2743 651 \n",
       "Q 3003 894 3003 1313 \n",
       "Q 3003 1734 2745 1975 \n",
       "Q 2488 2216 2034 2216 \n",
       "z\n",
       "M 1403 2484 \n",
       "Q 997 2584 770 2862 \n",
       "Q 544 3141 544 3541 \n",
       "Q 544 4100 942 4425 \n",
       "Q 1341 4750 2034 4750 \n",
       "Q 2731 4750 3128 4425 \n",
       "Q 3525 4100 3525 3541 \n",
       "Q 3525 3141 3298 2862 \n",
       "Q 3072 2584 2669 2484 \n",
       "Q 3125 2378 3379 2068 \n",
       "Q 3634 1759 3634 1313 \n",
       "Q 3634 634 3220 271 \n",
       "Q 2806 -91 2034 -91 \n",
       "Q 1263 -91 848 271 \n",
       "Q 434 634 434 1313 \n",
       "Q 434 1759 690 2068 \n",
       "Q 947 2378 1403 2484 \n",
       "z\n",
       "M 1172 3481 \n",
       "Q 1172 3119 1398 2916 \n",
       "Q 1625 2713 2034 2713 \n",
       "Q 2441 2713 2670 2916 \n",
       "Q 2900 3119 2900 3481 \n",
       "Q 2900 3844 2670 4047 \n",
       "Q 2441 4250 2034 4250 \n",
       "Q 1625 4250 1398 4047 \n",
       "Q 1172 3844 1172 3481 \n",
       "z\n",
       "\" transform=\"scale(0.015625)\"/>\n",
       "       </defs>\n",
       "       <use xlink:href=\"#DejaVuSans-30\"/>\n",
       "       <use xlink:href=\"#DejaVuSans-2e\" x=\"63.623047\"/>\n",
       "       <use xlink:href=\"#DejaVuSans-38\" x=\"95.410156\"/>\n",
       "      </g>\n",
       "     </g>\n",
       "    </g>\n",
       "    <g id=\"xtick_3\">\n",
       "     <g id=\"line2d_5\">\n",
       "      <path d=\"M 233.60849 576.718125 \n",
       "L 233.60849 22.318125 \n",
       "\" clip-path=\"url(#p4897c045dc)\" style=\"fill: none; stroke: #b0b0b0; stroke-width: 0.8; stroke-linecap: square\"/>\n",
       "     </g>\n",
       "     <g id=\"line2d_6\">\n",
       "      <g>\n",
       "       <use xlink:href=\"#me096c71a03\" x=\"233.60849\" y=\"576.718125\" style=\"stroke: #000000; stroke-width: 0.8\"/>\n",
       "      </g>\n",
       "     </g>\n",
       "     <g id=\"text_3\">\n",
       "      <!-- 1.0 -->\n",
       "      <g transform=\"translate(225.656927 591.316563) scale(0.1 -0.1)\">\n",
       "       <defs>\n",
       "        <path id=\"DejaVuSans-31\" d=\"M 794 531 \n",
       "L 1825 531 \n",
       "L 1825 4091 \n",
       "L 703 3866 \n",
       "L 703 4441 \n",
       "L 1819 4666 \n",
       "L 2450 4666 \n",
       "L 2450 531 \n",
       "L 3481 531 \n",
       "L 3481 0 \n",
       "L 794 0 \n",
       "L 794 531 \n",
       "z\n",
       "\" transform=\"scale(0.015625)\"/>\n",
       "       </defs>\n",
       "       <use xlink:href=\"#DejaVuSans-31\"/>\n",
       "       <use xlink:href=\"#DejaVuSans-2e\" x=\"63.623047\"/>\n",
       "       <use xlink:href=\"#DejaVuSans-30\" x=\"95.410156\"/>\n",
       "      </g>\n",
       "     </g>\n",
       "    </g>\n",
       "    <g id=\"xtick_4\">\n",
       "     <g id=\"line2d_7\">\n",
       "      <path d=\"M 311.650448 576.718125 \n",
       "L 311.650448 22.318125 \n",
       "\" clip-path=\"url(#p4897c045dc)\" style=\"fill: none; stroke: #b0b0b0; stroke-width: 0.8; stroke-linecap: square\"/>\n",
       "     </g>\n",
       "     <g id=\"line2d_8\">\n",
       "      <g>\n",
       "       <use xlink:href=\"#me096c71a03\" x=\"311.650448\" y=\"576.718125\" style=\"stroke: #000000; stroke-width: 0.8\"/>\n",
       "      </g>\n",
       "     </g>\n",
       "     <g id=\"text_4\">\n",
       "      <!-- 1.2 -->\n",
       "      <g transform=\"translate(303.698885 591.316563) scale(0.1 -0.1)\">\n",
       "       <defs>\n",
       "        <path id=\"DejaVuSans-32\" d=\"M 1228 531 \n",
       "L 3431 531 \n",
       "L 3431 0 \n",
       "L 469 0 \n",
       "L 469 531 \n",
       "Q 828 903 1448 1529 \n",
       "Q 2069 2156 2228 2338 \n",
       "Q 2531 2678 2651 2914 \n",
       "Q 2772 3150 2772 3378 \n",
       "Q 2772 3750 2511 3984 \n",
       "Q 2250 4219 1831 4219 \n",
       "Q 1534 4219 1204 4116 \n",
       "Q 875 4013 500 3803 \n",
       "L 500 4441 \n",
       "Q 881 4594 1212 4672 \n",
       "Q 1544 4750 1819 4750 \n",
       "Q 2544 4750 2975 4387 \n",
       "Q 3406 4025 3406 3419 \n",
       "Q 3406 3131 3298 2873 \n",
       "Q 3191 2616 2906 2266 \n",
       "Q 2828 2175 2409 1742 \n",
       "Q 1991 1309 1228 531 \n",
       "z\n",
       "\" transform=\"scale(0.015625)\"/>\n",
       "       </defs>\n",
       "       <use xlink:href=\"#DejaVuSans-31\"/>\n",
       "       <use xlink:href=\"#DejaVuSans-2e\" x=\"63.623047\"/>\n",
       "       <use xlink:href=\"#DejaVuSans-32\" x=\"95.410156\"/>\n",
       "      </g>\n",
       "     </g>\n",
       "    </g>\n",
       "    <g id=\"xtick_5\">\n",
       "     <g id=\"line2d_9\">\n",
       "      <path d=\"M 389.692406 576.718125 \n",
       "L 389.692406 22.318125 \n",
       "\" clip-path=\"url(#p4897c045dc)\" style=\"fill: none; stroke: #b0b0b0; stroke-width: 0.8; stroke-linecap: square\"/>\n",
       "     </g>\n",
       "     <g id=\"line2d_10\">\n",
       "      <g>\n",
       "       <use xlink:href=\"#me096c71a03\" x=\"389.692406\" y=\"576.718125\" style=\"stroke: #000000; stroke-width: 0.8\"/>\n",
       "      </g>\n",
       "     </g>\n",
       "     <g id=\"text_5\">\n",
       "      <!-- 1.4 -->\n",
       "      <g transform=\"translate(381.740844 591.316563) scale(0.1 -0.1)\">\n",
       "       <defs>\n",
       "        <path id=\"DejaVuSans-34\" d=\"M 2419 4116 \n",
       "L 825 1625 \n",
       "L 2419 1625 \n",
       "L 2419 4116 \n",
       "z\n",
       "M 2253 4666 \n",
       "L 3047 4666 \n",
       "L 3047 1625 \n",
       "L 3713 1625 \n",
       "L 3713 1100 \n",
       "L 3047 1100 \n",
       "L 3047 0 \n",
       "L 2419 0 \n",
       "L 2419 1100 \n",
       "L 313 1100 \n",
       "L 313 1709 \n",
       "L 2253 4666 \n",
       "z\n",
       "\" transform=\"scale(0.015625)\"/>\n",
       "       </defs>\n",
       "       <use xlink:href=\"#DejaVuSans-31\"/>\n",
       "       <use xlink:href=\"#DejaVuSans-2e\" x=\"63.623047\"/>\n",
       "       <use xlink:href=\"#DejaVuSans-34\" x=\"95.410156\"/>\n",
       "      </g>\n",
       "     </g>\n",
       "    </g>\n",
       "    <g id=\"xtick_6\">\n",
       "     <g id=\"line2d_11\">\n",
       "      <path d=\"M 467.734364 576.718125 \n",
       "L 467.734364 22.318125 \n",
       "\" clip-path=\"url(#p4897c045dc)\" style=\"fill: none; stroke: #b0b0b0; stroke-width: 0.8; stroke-linecap: square\"/>\n",
       "     </g>\n",
       "     <g id=\"line2d_12\">\n",
       "      <g>\n",
       "       <use xlink:href=\"#me096c71a03\" x=\"467.734364\" y=\"576.718125\" style=\"stroke: #000000; stroke-width: 0.8\"/>\n",
       "      </g>\n",
       "     </g>\n",
       "     <g id=\"text_6\">\n",
       "      <!-- 1.6 -->\n",
       "      <g transform=\"translate(459.782802 591.316563) scale(0.1 -0.1)\">\n",
       "       <use xlink:href=\"#DejaVuSans-31\"/>\n",
       "       <use xlink:href=\"#DejaVuSans-2e\" x=\"63.623047\"/>\n",
       "       <use xlink:href=\"#DejaVuSans-36\" x=\"95.410156\"/>\n",
       "      </g>\n",
       "     </g>\n",
       "    </g>\n",
       "    <g id=\"xtick_7\">\n",
       "     <g id=\"line2d_13\">\n",
       "      <path d=\"M 545.776322 576.718125 \n",
       "L 545.776322 22.318125 \n",
       "\" clip-path=\"url(#p4897c045dc)\" style=\"fill: none; stroke: #b0b0b0; stroke-width: 0.8; stroke-linecap: square\"/>\n",
       "     </g>\n",
       "     <g id=\"line2d_14\">\n",
       "      <g>\n",
       "       <use xlink:href=\"#me096c71a03\" x=\"545.776322\" y=\"576.718125\" style=\"stroke: #000000; stroke-width: 0.8\"/>\n",
       "      </g>\n",
       "     </g>\n",
       "     <g id=\"text_7\">\n",
       "      <!-- 1.8 -->\n",
       "      <g transform=\"translate(537.82476 591.316563) scale(0.1 -0.1)\">\n",
       "       <use xlink:href=\"#DejaVuSans-31\"/>\n",
       "       <use xlink:href=\"#DejaVuSans-2e\" x=\"63.623047\"/>\n",
       "       <use xlink:href=\"#DejaVuSans-38\" x=\"95.410156\"/>\n",
       "      </g>\n",
       "     </g>\n",
       "    </g>\n",
       "    <g id=\"text_8\">\n",
       "     <!-- x -->\n",
       "     <g transform=\"translate(328.201562 604.994688) scale(0.1 -0.1)\">\n",
       "      <defs>\n",
       "       <path id=\"DejaVuSans-78\" d=\"M 3513 3500 \n",
       "L 2247 1797 \n",
       "L 3578 0 \n",
       "L 2900 0 \n",
       "L 1881 1375 \n",
       "L 863 0 \n",
       "L 184 0 \n",
       "L 1544 1831 \n",
       "L 300 3500 \n",
       "L 978 3500 \n",
       "L 1906 2253 \n",
       "L 2834 3500 \n",
       "L 3513 3500 \n",
       "z\n",
       "\" transform=\"scale(0.015625)\"/>\n",
       "      </defs>\n",
       "      <use xlink:href=\"#DejaVuSans-78\"/>\n",
       "     </g>\n",
       "    </g>\n",
       "   </g>\n",
       "   <g id=\"matplotlib.axis_2\">\n",
       "    <g id=\"ytick_1\">\n",
       "     <g id=\"line2d_15\">\n",
       "      <path d=\"M 52.160938 512.178002 \n",
       "L 610.160938 512.178002 \n",
       "\" clip-path=\"url(#p4897c045dc)\" style=\"fill: none; stroke: #b0b0b0; stroke-width: 0.8; stroke-linecap: square\"/>\n",
       "     </g>\n",
       "     <g id=\"line2d_16\">\n",
       "      <defs>\n",
       "       <path id=\"m318cce9208\" d=\"M 0 0 \n",
       "L -3.5 0 \n",
       "\" style=\"stroke: #000000; stroke-width: 0.8\"/>\n",
       "      </defs>\n",
       "      <g>\n",
       "       <use xlink:href=\"#m318cce9208\" x=\"52.160938\" y=\"512.178002\" style=\"stroke: #000000; stroke-width: 0.8\"/>\n",
       "      </g>\n",
       "     </g>\n",
       "     <g id=\"text_9\">\n",
       "      <!-- −0.4 -->\n",
       "      <g transform=\"translate(20.878125 515.977221) scale(0.1 -0.1)\">\n",
       "       <defs>\n",
       "        <path id=\"DejaVuSans-2212\" d=\"M 678 2272 \n",
       "L 4684 2272 \n",
       "L 4684 1741 \n",
       "L 678 1741 \n",
       "L 678 2272 \n",
       "z\n",
       "\" transform=\"scale(0.015625)\"/>\n",
       "       </defs>\n",
       "       <use xlink:href=\"#DejaVuSans-2212\"/>\n",
       "       <use xlink:href=\"#DejaVuSans-30\" x=\"83.789062\"/>\n",
       "       <use xlink:href=\"#DejaVuSans-2e\" x=\"147.412109\"/>\n",
       "       <use xlink:href=\"#DejaVuSans-34\" x=\"179.199219\"/>\n",
       "      </g>\n",
       "     </g>\n",
       "    </g>\n",
       "    <g id=\"ytick_2\">\n",
       "     <g id=\"line2d_17\">\n",
       "      <path d=\"M 52.160938 441.183369 \n",
       "L 610.160938 441.183369 \n",
       "\" clip-path=\"url(#p4897c045dc)\" style=\"fill: none; stroke: #b0b0b0; stroke-width: 0.8; stroke-linecap: square\"/>\n",
       "     </g>\n",
       "     <g id=\"line2d_18\">\n",
       "      <g>\n",
       "       <use xlink:href=\"#m318cce9208\" x=\"52.160938\" y=\"441.183369\" style=\"stroke: #000000; stroke-width: 0.8\"/>\n",
       "      </g>\n",
       "     </g>\n",
       "     <g id=\"text_10\">\n",
       "      <!-- −0.2 -->\n",
       "      <g transform=\"translate(20.878125 444.982587) scale(0.1 -0.1)\">\n",
       "       <use xlink:href=\"#DejaVuSans-2212\"/>\n",
       "       <use xlink:href=\"#DejaVuSans-30\" x=\"83.789062\"/>\n",
       "       <use xlink:href=\"#DejaVuSans-2e\" x=\"147.412109\"/>\n",
       "       <use xlink:href=\"#DejaVuSans-32\" x=\"179.199219\"/>\n",
       "      </g>\n",
       "     </g>\n",
       "    </g>\n",
       "    <g id=\"ytick_3\">\n",
       "     <g id=\"line2d_19\">\n",
       "      <path d=\"M 52.160938 370.188735 \n",
       "L 610.160938 370.188735 \n",
       "\" clip-path=\"url(#p4897c045dc)\" style=\"fill: none; stroke: #b0b0b0; stroke-width: 0.8; stroke-linecap: square\"/>\n",
       "     </g>\n",
       "     <g id=\"line2d_20\">\n",
       "      <g>\n",
       "       <use xlink:href=\"#m318cce9208\" x=\"52.160938\" y=\"370.188735\" style=\"stroke: #000000; stroke-width: 0.8\"/>\n",
       "      </g>\n",
       "     </g>\n",
       "     <g id=\"text_11\">\n",
       "      <!-- 0.0 -->\n",
       "      <g transform=\"translate(29.257813 373.987954) scale(0.1 -0.1)\">\n",
       "       <use xlink:href=\"#DejaVuSans-30\"/>\n",
       "       <use xlink:href=\"#DejaVuSans-2e\" x=\"63.623047\"/>\n",
       "       <use xlink:href=\"#DejaVuSans-30\" x=\"95.410156\"/>\n",
       "      </g>\n",
       "     </g>\n",
       "    </g>\n",
       "    <g id=\"ytick_4\">\n",
       "     <g id=\"line2d_21\">\n",
       "      <path d=\"M 52.160938 299.194101 \n",
       "L 610.160938 299.194101 \n",
       "\" clip-path=\"url(#p4897c045dc)\" style=\"fill: none; stroke: #b0b0b0; stroke-width: 0.8; stroke-linecap: square\"/>\n",
       "     </g>\n",
       "     <g id=\"line2d_22\">\n",
       "      <g>\n",
       "       <use xlink:href=\"#m318cce9208\" x=\"52.160938\" y=\"299.194101\" style=\"stroke: #000000; stroke-width: 0.8\"/>\n",
       "      </g>\n",
       "     </g>\n",
       "     <g id=\"text_12\">\n",
       "      <!-- 0.2 -->\n",
       "      <g transform=\"translate(29.257813 302.99332) scale(0.1 -0.1)\">\n",
       "       <use xlink:href=\"#DejaVuSans-30\"/>\n",
       "       <use xlink:href=\"#DejaVuSans-2e\" x=\"63.623047\"/>\n",
       "       <use xlink:href=\"#DejaVuSans-32\" x=\"95.410156\"/>\n",
       "      </g>\n",
       "     </g>\n",
       "    </g>\n",
       "    <g id=\"ytick_5\">\n",
       "     <g id=\"line2d_23\">\n",
       "      <path d=\"M 52.160938 228.199468 \n",
       "L 610.160938 228.199468 \n",
       "\" clip-path=\"url(#p4897c045dc)\" style=\"fill: none; stroke: #b0b0b0; stroke-width: 0.8; stroke-linecap: square\"/>\n",
       "     </g>\n",
       "     <g id=\"line2d_24\">\n",
       "      <g>\n",
       "       <use xlink:href=\"#m318cce9208\" x=\"52.160938\" y=\"228.199468\" style=\"stroke: #000000; stroke-width: 0.8\"/>\n",
       "      </g>\n",
       "     </g>\n",
       "     <g id=\"text_13\">\n",
       "      <!-- 0.4 -->\n",
       "      <g transform=\"translate(29.257813 231.998686) scale(0.1 -0.1)\">\n",
       "       <use xlink:href=\"#DejaVuSans-30\"/>\n",
       "       <use xlink:href=\"#DejaVuSans-2e\" x=\"63.623047\"/>\n",
       "       <use xlink:href=\"#DejaVuSans-34\" x=\"95.410156\"/>\n",
       "      </g>\n",
       "     </g>\n",
       "    </g>\n",
       "    <g id=\"ytick_6\">\n",
       "     <g id=\"line2d_25\">\n",
       "      <path d=\"M 52.160938 157.204834 \n",
       "L 610.160938 157.204834 \n",
       "\" clip-path=\"url(#p4897c045dc)\" style=\"fill: none; stroke: #b0b0b0; stroke-width: 0.8; stroke-linecap: square\"/>\n",
       "     </g>\n",
       "     <g id=\"line2d_26\">\n",
       "      <g>\n",
       "       <use xlink:href=\"#m318cce9208\" x=\"52.160938\" y=\"157.204834\" style=\"stroke: #000000; stroke-width: 0.8\"/>\n",
       "      </g>\n",
       "     </g>\n",
       "     <g id=\"text_14\">\n",
       "      <!-- 0.6 -->\n",
       "      <g transform=\"translate(29.257813 161.004053) scale(0.1 -0.1)\">\n",
       "       <use xlink:href=\"#DejaVuSans-30\"/>\n",
       "       <use xlink:href=\"#DejaVuSans-2e\" x=\"63.623047\"/>\n",
       "       <use xlink:href=\"#DejaVuSans-36\" x=\"95.410156\"/>\n",
       "      </g>\n",
       "     </g>\n",
       "    </g>\n",
       "    <g id=\"ytick_7\">\n",
       "     <g id=\"line2d_27\">\n",
       "      <path d=\"M 52.160938 86.2102 \n",
       "L 610.160938 86.2102 \n",
       "\" clip-path=\"url(#p4897c045dc)\" style=\"fill: none; stroke: #b0b0b0; stroke-width: 0.8; stroke-linecap: square\"/>\n",
       "     </g>\n",
       "     <g id=\"line2d_28\">\n",
       "      <g>\n",
       "       <use xlink:href=\"#m318cce9208\" x=\"52.160938\" y=\"86.2102\" style=\"stroke: #000000; stroke-width: 0.8\"/>\n",
       "      </g>\n",
       "     </g>\n",
       "     <g id=\"text_15\">\n",
       "      <!-- 0.8 -->\n",
       "      <g transform=\"translate(29.257813 90.009419) scale(0.1 -0.1)\">\n",
       "       <use xlink:href=\"#DejaVuSans-30\"/>\n",
       "       <use xlink:href=\"#DejaVuSans-2e\" x=\"63.623047\"/>\n",
       "       <use xlink:href=\"#DejaVuSans-38\" x=\"95.410156\"/>\n",
       "      </g>\n",
       "     </g>\n",
       "    </g>\n",
       "    <g id=\"text_16\">\n",
       "     <!-- f(x) -->\n",
       "     <g transform=\"translate(14.798438 308.139219) rotate(-90) scale(0.1 -0.1)\">\n",
       "      <defs>\n",
       "       <path id=\"DejaVuSans-66\" d=\"M 2375 4863 \n",
       "L 2375 4384 \n",
       "L 1825 4384 \n",
       "Q 1516 4384 1395 4259 \n",
       "Q 1275 4134 1275 3809 \n",
       "L 1275 3500 \n",
       "L 2222 3500 \n",
       "L 2222 3053 \n",
       "L 1275 3053 \n",
       "L 1275 0 \n",
       "L 697 0 \n",
       "L 697 3053 \n",
       "L 147 3053 \n",
       "L 147 3500 \n",
       "L 697 3500 \n",
       "L 697 3744 \n",
       "Q 697 4328 969 4595 \n",
       "Q 1241 4863 1831 4863 \n",
       "L 2375 4863 \n",
       "z\n",
       "\" transform=\"scale(0.015625)\"/>\n",
       "       <path id=\"DejaVuSans-28\" d=\"M 1984 4856 \n",
       "Q 1566 4138 1362 3434 \n",
       "Q 1159 2731 1159 2009 \n",
       "Q 1159 1288 1364 580 \n",
       "Q 1569 -128 1984 -844 \n",
       "L 1484 -844 \n",
       "Q 1016 -109 783 600 \n",
       "Q 550 1309 550 2009 \n",
       "Q 550 2706 781 3412 \n",
       "Q 1013 4119 1484 4856 \n",
       "L 1984 4856 \n",
       "z\n",
       "\" transform=\"scale(0.015625)\"/>\n",
       "       <path id=\"DejaVuSans-29\" d=\"M 513 4856 \n",
       "L 1013 4856 \n",
       "Q 1481 4119 1714 3412 \n",
       "Q 1947 2706 1947 2009 \n",
       "Q 1947 1309 1714 600 \n",
       "Q 1481 -109 1013 -844 \n",
       "L 513 -844 \n",
       "Q 928 -128 1133 580 \n",
       "Q 1338 1288 1338 2009 \n",
       "Q 1338 2731 1133 3434 \n",
       "Q 928 4138 513 4856 \n",
       "z\n",
       "\" transform=\"scale(0.015625)\"/>\n",
       "      </defs>\n",
       "      <use xlink:href=\"#DejaVuSans-66\"/>\n",
       "      <use xlink:href=\"#DejaVuSans-28\" x=\"35.205078\"/>\n",
       "      <use xlink:href=\"#DejaVuSans-78\" x=\"74.21875\"/>\n",
       "      <use xlink:href=\"#DejaVuSans-29\" x=\"133.398438\"/>\n",
       "     </g>\n",
       "    </g>\n",
       "   </g>\n",
       "   <g id=\"line2d_29\">\n",
       "    <path d=\"M 77.524574 551.518125 \n",
       "L 116.545553 496.79877 \n",
       "L 155.566532 449.398708 \n",
       "L 194.587511 407.588891 \n",
       "L 233.60849 370.188735 \n",
       "L 272.629469 336.356178 \n",
       "L 311.650448 305.469474 \n",
       "L 350.671427 277.056461 \n",
       "L 389.692406 250.750119 \n",
       "L 428.713385 226.259501 \n",
       "L 467.734364 203.350058 \n",
       "L 506.755343 181.829943 \n",
       "L 545.776322 161.54024 \n",
       "L 584.797301 142.347827 \n",
       "\" clip-path=\"url(#p4897c045dc)\" style=\"fill: none; stroke: #1f77b4; stroke-width: 1.5; stroke-linecap: square\"/>\n",
       "   </g>\n",
       "   <g id=\"line2d_30\">\n",
       "    <path d=\"M 77.524574 513.597895 \n",
       "L 116.545553 477.745605 \n",
       "L 155.566532 441.893315 \n",
       "L 194.587511 406.041025 \n",
       "L 233.60849 370.188735 \n",
       "L 272.629469 334.336445 \n",
       "L 311.650448 298.484155 \n",
       "L 350.671427 262.631865 \n",
       "L 389.692406 226.779575 \n",
       "L 428.713385 190.927285 \n",
       "L 467.734364 155.074995 \n",
       "L 506.755343 119.222705 \n",
       "L 545.776322 83.370415 \n",
       "L 584.797301 47.518125 \n",
       "\" clip-path=\"url(#p4897c045dc)\" style=\"fill: none; stroke-dasharray: 5.55,2.4; stroke-dashoffset: 0; stroke: #bf00bf; stroke-width: 1.5\"/>\n",
       "   </g>\n",
       "   <g id=\"patch_3\">\n",
       "    <path d=\"M 52.160938 576.718125 \n",
       "L 52.160938 22.318125 \n",
       "\" style=\"fill: none; stroke: #000000; stroke-width: 0.8; stroke-linejoin: miter; stroke-linecap: square\"/>\n",
       "   </g>\n",
       "   <g id=\"patch_4\">\n",
       "    <path d=\"M 610.160938 576.718125 \n",
       "L 610.160938 22.318125 \n",
       "\" style=\"fill: none; stroke: #000000; stroke-width: 0.8; stroke-linejoin: miter; stroke-linecap: square\"/>\n",
       "   </g>\n",
       "   <g id=\"patch_5\">\n",
       "    <path d=\"M 52.160938 576.718125 \n",
       "L 610.160938 576.718125 \n",
       "\" style=\"fill: none; stroke: #000000; stroke-width: 0.8; stroke-linejoin: miter; stroke-linecap: square\"/>\n",
       "   </g>\n",
       "   <g id=\"patch_6\">\n",
       "    <path d=\"M 52.160938 22.318125 \n",
       "L 610.160938 22.318125 \n",
       "\" style=\"fill: none; stroke: #000000; stroke-width: 0.8; stroke-linejoin: miter; stroke-linecap: square\"/>\n",
       "   </g>\n",
       "   <g id=\"text_17\">\n",
       "    <!-- The function has 1.01 slope at x:0.99 -->\n",
       "    <g transform=\"translate(219.161563 16.318125) scale(0.12 -0.12)\">\n",
       "     <defs>\n",
       "      <path id=\"DejaVuSans-54\" d=\"M -19 4666 \n",
       "L 3928 4666 \n",
       "L 3928 4134 \n",
       "L 2272 4134 \n",
       "L 2272 0 \n",
       "L 1638 0 \n",
       "L 1638 4134 \n",
       "L -19 4134 \n",
       "L -19 4666 \n",
       "z\n",
       "\" transform=\"scale(0.015625)\"/>\n",
       "      <path id=\"DejaVuSans-68\" d=\"M 3513 2113 \n",
       "L 3513 0 \n",
       "L 2938 0 \n",
       "L 2938 2094 \n",
       "Q 2938 2591 2744 2837 \n",
       "Q 2550 3084 2163 3084 \n",
       "Q 1697 3084 1428 2787 \n",
       "Q 1159 2491 1159 1978 \n",
       "L 1159 0 \n",
       "L 581 0 \n",
       "L 581 4863 \n",
       "L 1159 4863 \n",
       "L 1159 2956 \n",
       "Q 1366 3272 1645 3428 \n",
       "Q 1925 3584 2291 3584 \n",
       "Q 2894 3584 3203 3211 \n",
       "Q 3513 2838 3513 2113 \n",
       "z\n",
       "\" transform=\"scale(0.015625)\"/>\n",
       "      <path id=\"DejaVuSans-65\" d=\"M 3597 1894 \n",
       "L 3597 1613 \n",
       "L 953 1613 \n",
       "Q 991 1019 1311 708 \n",
       "Q 1631 397 2203 397 \n",
       "Q 2534 397 2845 478 \n",
       "Q 3156 559 3463 722 \n",
       "L 3463 178 \n",
       "Q 3153 47 2828 -22 \n",
       "Q 2503 -91 2169 -91 \n",
       "Q 1331 -91 842 396 \n",
       "Q 353 884 353 1716 \n",
       "Q 353 2575 817 3079 \n",
       "Q 1281 3584 2069 3584 \n",
       "Q 2775 3584 3186 3129 \n",
       "Q 3597 2675 3597 1894 \n",
       "z\n",
       "M 3022 2063 \n",
       "Q 3016 2534 2758 2815 \n",
       "Q 2500 3097 2075 3097 \n",
       "Q 1594 3097 1305 2825 \n",
       "Q 1016 2553 972 2059 \n",
       "L 3022 2063 \n",
       "z\n",
       "\" transform=\"scale(0.015625)\"/>\n",
       "      <path id=\"DejaVuSans-20\" transform=\"scale(0.015625)\"/>\n",
       "      <path id=\"DejaVuSans-75\" d=\"M 544 1381 \n",
       "L 544 3500 \n",
       "L 1119 3500 \n",
       "L 1119 1403 \n",
       "Q 1119 906 1312 657 \n",
       "Q 1506 409 1894 409 \n",
       "Q 2359 409 2629 706 \n",
       "Q 2900 1003 2900 1516 \n",
       "L 2900 3500 \n",
       "L 3475 3500 \n",
       "L 3475 0 \n",
       "L 2900 0 \n",
       "L 2900 538 \n",
       "Q 2691 219 2414 64 \n",
       "Q 2138 -91 1772 -91 \n",
       "Q 1169 -91 856 284 \n",
       "Q 544 659 544 1381 \n",
       "z\n",
       "M 1991 3584 \n",
       "L 1991 3584 \n",
       "z\n",
       "\" transform=\"scale(0.015625)\"/>\n",
       "      <path id=\"DejaVuSans-6e\" d=\"M 3513 2113 \n",
       "L 3513 0 \n",
       "L 2938 0 \n",
       "L 2938 2094 \n",
       "Q 2938 2591 2744 2837 \n",
       "Q 2550 3084 2163 3084 \n",
       "Q 1697 3084 1428 2787 \n",
       "Q 1159 2491 1159 1978 \n",
       "L 1159 0 \n",
       "L 581 0 \n",
       "L 581 3500 \n",
       "L 1159 3500 \n",
       "L 1159 2956 \n",
       "Q 1366 3272 1645 3428 \n",
       "Q 1925 3584 2291 3584 \n",
       "Q 2894 3584 3203 3211 \n",
       "Q 3513 2838 3513 2113 \n",
       "z\n",
       "\" transform=\"scale(0.015625)\"/>\n",
       "      <path id=\"DejaVuSans-63\" d=\"M 3122 3366 \n",
       "L 3122 2828 \n",
       "Q 2878 2963 2633 3030 \n",
       "Q 2388 3097 2138 3097 \n",
       "Q 1578 3097 1268 2742 \n",
       "Q 959 2388 959 1747 \n",
       "Q 959 1106 1268 751 \n",
       "Q 1578 397 2138 397 \n",
       "Q 2388 397 2633 464 \n",
       "Q 2878 531 3122 666 \n",
       "L 3122 134 \n",
       "Q 2881 22 2623 -34 \n",
       "Q 2366 -91 2075 -91 \n",
       "Q 1284 -91 818 406 \n",
       "Q 353 903 353 1747 \n",
       "Q 353 2603 823 3093 \n",
       "Q 1294 3584 2113 3584 \n",
       "Q 2378 3584 2631 3529 \n",
       "Q 2884 3475 3122 3366 \n",
       "z\n",
       "\" transform=\"scale(0.015625)\"/>\n",
       "      <path id=\"DejaVuSans-74\" d=\"M 1172 4494 \n",
       "L 1172 3500 \n",
       "L 2356 3500 \n",
       "L 2356 3053 \n",
       "L 1172 3053 \n",
       "L 1172 1153 \n",
       "Q 1172 725 1289 603 \n",
       "Q 1406 481 1766 481 \n",
       "L 2356 481 \n",
       "L 2356 0 \n",
       "L 1766 0 \n",
       "Q 1100 0 847 248 \n",
       "Q 594 497 594 1153 \n",
       "L 594 3053 \n",
       "L 172 3053 \n",
       "L 172 3500 \n",
       "L 594 3500 \n",
       "L 594 4494 \n",
       "L 1172 4494 \n",
       "z\n",
       "\" transform=\"scale(0.015625)\"/>\n",
       "      <path id=\"DejaVuSans-69\" d=\"M 603 3500 \n",
       "L 1178 3500 \n",
       "L 1178 0 \n",
       "L 603 0 \n",
       "L 603 3500 \n",
       "z\n",
       "M 603 4863 \n",
       "L 1178 4863 \n",
       "L 1178 4134 \n",
       "L 603 4134 \n",
       "L 603 4863 \n",
       "z\n",
       "\" transform=\"scale(0.015625)\"/>\n",
       "      <path id=\"DejaVuSans-6f\" d=\"M 1959 3097 \n",
       "Q 1497 3097 1228 2736 \n",
       "Q 959 2375 959 1747 \n",
       "Q 959 1119 1226 758 \n",
       "Q 1494 397 1959 397 \n",
       "Q 2419 397 2687 759 \n",
       "Q 2956 1122 2956 1747 \n",
       "Q 2956 2369 2687 2733 \n",
       "Q 2419 3097 1959 3097 \n",
       "z\n",
       "M 1959 3584 \n",
       "Q 2709 3584 3137 3096 \n",
       "Q 3566 2609 3566 1747 \n",
       "Q 3566 888 3137 398 \n",
       "Q 2709 -91 1959 -91 \n",
       "Q 1206 -91 779 398 \n",
       "Q 353 888 353 1747 \n",
       "Q 353 2609 779 3096 \n",
       "Q 1206 3584 1959 3584 \n",
       "z\n",
       "\" transform=\"scale(0.015625)\"/>\n",
       "      <path id=\"DejaVuSans-61\" d=\"M 2194 1759 \n",
       "Q 1497 1759 1228 1600 \n",
       "Q 959 1441 959 1056 \n",
       "Q 959 750 1161 570 \n",
       "Q 1363 391 1709 391 \n",
       "Q 2188 391 2477 730 \n",
       "Q 2766 1069 2766 1631 \n",
       "L 2766 1759 \n",
       "L 2194 1759 \n",
       "z\n",
       "M 3341 1997 \n",
       "L 3341 0 \n",
       "L 2766 0 \n",
       "L 2766 531 \n",
       "Q 2569 213 2275 61 \n",
       "Q 1981 -91 1556 -91 \n",
       "Q 1019 -91 701 211 \n",
       "Q 384 513 384 1019 \n",
       "Q 384 1609 779 1909 \n",
       "Q 1175 2209 1959 2209 \n",
       "L 2766 2209 \n",
       "L 2766 2266 \n",
       "Q 2766 2663 2505 2880 \n",
       "Q 2244 3097 1772 3097 \n",
       "Q 1472 3097 1187 3025 \n",
       "Q 903 2953 641 2809 \n",
       "L 641 3341 \n",
       "Q 956 3463 1253 3523 \n",
       "Q 1550 3584 1831 3584 \n",
       "Q 2591 3584 2966 3190 \n",
       "Q 3341 2797 3341 1997 \n",
       "z\n",
       "\" transform=\"scale(0.015625)\"/>\n",
       "      <path id=\"DejaVuSans-73\" d=\"M 2834 3397 \n",
       "L 2834 2853 \n",
       "Q 2591 2978 2328 3040 \n",
       "Q 2066 3103 1784 3103 \n",
       "Q 1356 3103 1142 2972 \n",
       "Q 928 2841 928 2578 \n",
       "Q 928 2378 1081 2264 \n",
       "Q 1234 2150 1697 2047 \n",
       "L 1894 2003 \n",
       "Q 2506 1872 2764 1633 \n",
       "Q 3022 1394 3022 966 \n",
       "Q 3022 478 2636 193 \n",
       "Q 2250 -91 1575 -91 \n",
       "Q 1294 -91 989 -36 \n",
       "Q 684 19 347 128 \n",
       "L 347 722 \n",
       "Q 666 556 975 473 \n",
       "Q 1284 391 1588 391 \n",
       "Q 1994 391 2212 530 \n",
       "Q 2431 669 2431 922 \n",
       "Q 2431 1156 2273 1281 \n",
       "Q 2116 1406 1581 1522 \n",
       "L 1381 1569 \n",
       "Q 847 1681 609 1914 \n",
       "Q 372 2147 372 2553 \n",
       "Q 372 3047 722 3315 \n",
       "Q 1072 3584 1716 3584 \n",
       "Q 2034 3584 2315 3537 \n",
       "Q 2597 3491 2834 3397 \n",
       "z\n",
       "\" transform=\"scale(0.015625)\"/>\n",
       "      <path id=\"DejaVuSans-6c\" d=\"M 603 4863 \n",
       "L 1178 4863 \n",
       "L 1178 0 \n",
       "L 603 0 \n",
       "L 603 4863 \n",
       "z\n",
       "\" transform=\"scale(0.015625)\"/>\n",
       "      <path id=\"DejaVuSans-70\" d=\"M 1159 525 \n",
       "L 1159 -1331 \n",
       "L 581 -1331 \n",
       "L 581 3500 \n",
       "L 1159 3500 \n",
       "L 1159 2969 \n",
       "Q 1341 3281 1617 3432 \n",
       "Q 1894 3584 2278 3584 \n",
       "Q 2916 3584 3314 3078 \n",
       "Q 3713 2572 3713 1747 \n",
       "Q 3713 922 3314 415 \n",
       "Q 2916 -91 2278 -91 \n",
       "Q 1894 -91 1617 61 \n",
       "Q 1341 213 1159 525 \n",
       "z\n",
       "M 3116 1747 \n",
       "Q 3116 2381 2855 2742 \n",
       "Q 2594 3103 2138 3103 \n",
       "Q 1681 3103 1420 2742 \n",
       "Q 1159 2381 1159 1747 \n",
       "Q 1159 1113 1420 752 \n",
       "Q 1681 391 2138 391 \n",
       "Q 2594 391 2855 752 \n",
       "Q 3116 1113 3116 1747 \n",
       "z\n",
       "\" transform=\"scale(0.015625)\"/>\n",
       "      <path id=\"DejaVuSans-3a\" d=\"M 750 794 \n",
       "L 1409 794 \n",
       "L 1409 0 \n",
       "L 750 0 \n",
       "L 750 794 \n",
       "z\n",
       "M 750 3309 \n",
       "L 1409 3309 \n",
       "L 1409 2516 \n",
       "L 750 2516 \n",
       "L 750 3309 \n",
       "z\n",
       "\" transform=\"scale(0.015625)\"/>\n",
       "      <path id=\"DejaVuSans-39\" d=\"M 703 97 \n",
       "L 703 672 \n",
       "Q 941 559 1184 500 \n",
       "Q 1428 441 1663 441 \n",
       "Q 2288 441 2617 861 \n",
       "Q 2947 1281 2994 2138 \n",
       "Q 2813 1869 2534 1725 \n",
       "Q 2256 1581 1919 1581 \n",
       "Q 1219 1581 811 2004 \n",
       "Q 403 2428 403 3163 \n",
       "Q 403 3881 828 4315 \n",
       "Q 1253 4750 1959 4750 \n",
       "Q 2769 4750 3195 4129 \n",
       "Q 3622 3509 3622 2328 \n",
       "Q 3622 1225 3098 567 \n",
       "Q 2575 -91 1691 -91 \n",
       "Q 1453 -91 1209 -44 \n",
       "Q 966 3 703 97 \n",
       "z\n",
       "M 1959 2075 \n",
       "Q 2384 2075 2632 2365 \n",
       "Q 2881 2656 2881 3163 \n",
       "Q 2881 3666 2632 3958 \n",
       "Q 2384 4250 1959 4250 \n",
       "Q 1534 4250 1286 3958 \n",
       "Q 1038 3666 1038 3163 \n",
       "Q 1038 2656 1286 2365 \n",
       "Q 1534 2075 1959 2075 \n",
       "z\n",
       "\" transform=\"scale(0.015625)\"/>\n",
       "     </defs>\n",
       "     <use xlink:href=\"#DejaVuSans-54\"/>\n",
       "     <use xlink:href=\"#DejaVuSans-68\" x=\"61.083984\"/>\n",
       "     <use xlink:href=\"#DejaVuSans-65\" x=\"124.462891\"/>\n",
       "     <use xlink:href=\"#DejaVuSans-20\" x=\"185.986328\"/>\n",
       "     <use xlink:href=\"#DejaVuSans-66\" x=\"217.773438\"/>\n",
       "     <use xlink:href=\"#DejaVuSans-75\" x=\"252.978516\"/>\n",
       "     <use xlink:href=\"#DejaVuSans-6e\" x=\"316.357422\"/>\n",
       "     <use xlink:href=\"#DejaVuSans-63\" x=\"379.736328\"/>\n",
       "     <use xlink:href=\"#DejaVuSans-74\" x=\"434.716797\"/>\n",
       "     <use xlink:href=\"#DejaVuSans-69\" x=\"473.925781\"/>\n",
       "     <use xlink:href=\"#DejaVuSans-6f\" x=\"501.708984\"/>\n",
       "     <use xlink:href=\"#DejaVuSans-6e\" x=\"562.890625\"/>\n",
       "     <use xlink:href=\"#DejaVuSans-20\" x=\"626.269531\"/>\n",
       "     <use xlink:href=\"#DejaVuSans-68\" x=\"658.056641\"/>\n",
       "     <use xlink:href=\"#DejaVuSans-61\" x=\"721.435547\"/>\n",
       "     <use xlink:href=\"#DejaVuSans-73\" x=\"782.714844\"/>\n",
       "     <use xlink:href=\"#DejaVuSans-20\" x=\"834.814453\"/>\n",
       "     <use xlink:href=\"#DejaVuSans-31\" x=\"866.601562\"/>\n",
       "     <use xlink:href=\"#DejaVuSans-2e\" x=\"930.224609\"/>\n",
       "     <use xlink:href=\"#DejaVuSans-30\" x=\"962.011719\"/>\n",
       "     <use xlink:href=\"#DejaVuSans-31\" x=\"1025.634766\"/>\n",
       "     <use xlink:href=\"#DejaVuSans-20\" x=\"1089.257812\"/>\n",
       "     <use xlink:href=\"#DejaVuSans-73\" x=\"1121.044922\"/>\n",
       "     <use xlink:href=\"#DejaVuSans-6c\" x=\"1173.144531\"/>\n",
       "     <use xlink:href=\"#DejaVuSans-6f\" x=\"1200.927734\"/>\n",
       "     <use xlink:href=\"#DejaVuSans-70\" x=\"1262.109375\"/>\n",
       "     <use xlink:href=\"#DejaVuSans-65\" x=\"1325.585938\"/>\n",
       "     <use xlink:href=\"#DejaVuSans-20\" x=\"1387.109375\"/>\n",
       "     <use xlink:href=\"#DejaVuSans-61\" x=\"1418.896484\"/>\n",
       "     <use xlink:href=\"#DejaVuSans-74\" x=\"1480.175781\"/>\n",
       "     <use xlink:href=\"#DejaVuSans-20\" x=\"1519.384766\"/>\n",
       "     <use xlink:href=\"#DejaVuSans-78\" x=\"1551.171875\"/>\n",
       "     <use xlink:href=\"#DejaVuSans-3a\" x=\"1610.351562\"/>\n",
       "     <use xlink:href=\"#DejaVuSans-30\" x=\"1644.042969\"/>\n",
       "     <use xlink:href=\"#DejaVuSans-2e\" x=\"1707.666016\"/>\n",
       "     <use xlink:href=\"#DejaVuSans-39\" x=\"1739.453125\"/>\n",
       "     <use xlink:href=\"#DejaVuSans-39\" x=\"1803.076172\"/>\n",
       "    </g>\n",
       "   </g>\n",
       "   <g id=\"legend_1\">\n",
       "    <g id=\"patch_7\">\n",
       "     <path d=\"M 59.160938 59.674375 \n",
       "L 183.710938 59.674375 \n",
       "Q 185.710938 59.674375 185.710938 57.674375 \n",
       "L 185.710938 29.318125 \n",
       "Q 185.710938 27.318125 183.710938 27.318125 \n",
       "L 59.160938 27.318125 \n",
       "Q 57.160938 27.318125 57.160938 29.318125 \n",
       "L 57.160938 57.674375 \n",
       "Q 57.160938 59.674375 59.160938 59.674375 \n",
       "z\n",
       "\" style=\"fill: #ffffff; opacity: 0.8; stroke: #cccccc; stroke-linejoin: miter\"/>\n",
       "    </g>\n",
       "    <g id=\"line2d_31\">\n",
       "     <path d=\"M 61.160938 35.416563 \n",
       "L 71.160938 35.416563 \n",
       "L 81.160938 35.416563 \n",
       "\" style=\"fill: none; stroke: #1f77b4; stroke-width: 1.5; stroke-linecap: square\"/>\n",
       "    </g>\n",
       "    <g id=\"text_18\">\n",
       "     <!-- f(x) -->\n",
       "     <g transform=\"translate(89.160938 38.916563) scale(0.1 -0.1)\">\n",
       "      <use xlink:href=\"#DejaVuSans-66\"/>\n",
       "      <use xlink:href=\"#DejaVuSans-28\" x=\"35.205078\"/>\n",
       "      <use xlink:href=\"#DejaVuSans-78\" x=\"74.21875\"/>\n",
       "      <use xlink:href=\"#DejaVuSans-29\" x=\"133.398438\"/>\n",
       "     </g>\n",
       "    </g>\n",
       "    <g id=\"line2d_32\">\n",
       "     <path d=\"M 61.160938 50.094688 \n",
       "L 71.160938 50.094688 \n",
       "L 81.160938 50.094688 \n",
       "\" style=\"fill: none; stroke-dasharray: 5.55,2.4; stroke-dashoffset: 0; stroke: #bf00bf; stroke-width: 1.5\"/>\n",
       "    </g>\n",
       "    <g id=\"text_19\">\n",
       "     <!-- Tangent line (x=1) -->\n",
       "     <g transform=\"translate(89.160938 53.594688) scale(0.1 -0.1)\">\n",
       "      <defs>\n",
       "       <path id=\"DejaVuSans-67\" d=\"M 2906 1791 \n",
       "Q 2906 2416 2648 2759 \n",
       "Q 2391 3103 1925 3103 \n",
       "Q 1463 3103 1205 2759 \n",
       "Q 947 2416 947 1791 \n",
       "Q 947 1169 1205 825 \n",
       "Q 1463 481 1925 481 \n",
       "Q 2391 481 2648 825 \n",
       "Q 2906 1169 2906 1791 \n",
       "z\n",
       "M 3481 434 \n",
       "Q 3481 -459 3084 -895 \n",
       "Q 2688 -1331 1869 -1331 \n",
       "Q 1566 -1331 1297 -1286 \n",
       "Q 1028 -1241 775 -1147 \n",
       "L 775 -588 \n",
       "Q 1028 -725 1275 -790 \n",
       "Q 1522 -856 1778 -856 \n",
       "Q 2344 -856 2625 -561 \n",
       "Q 2906 -266 2906 331 \n",
       "L 2906 616 \n",
       "Q 2728 306 2450 153 \n",
       "Q 2172 0 1784 0 \n",
       "Q 1141 0 747 490 \n",
       "Q 353 981 353 1791 \n",
       "Q 353 2603 747 3093 \n",
       "Q 1141 3584 1784 3584 \n",
       "Q 2172 3584 2450 3431 \n",
       "Q 2728 3278 2906 2969 \n",
       "L 2906 3500 \n",
       "L 3481 3500 \n",
       "L 3481 434 \n",
       "z\n",
       "\" transform=\"scale(0.015625)\"/>\n",
       "       <path id=\"DejaVuSans-3d\" d=\"M 678 2906 \n",
       "L 4684 2906 \n",
       "L 4684 2381 \n",
       "L 678 2381 \n",
       "L 678 2906 \n",
       "z\n",
       "M 678 1631 \n",
       "L 4684 1631 \n",
       "L 4684 1100 \n",
       "L 678 1100 \n",
       "L 678 1631 \n",
       "z\n",
       "\" transform=\"scale(0.015625)\"/>\n",
       "      </defs>\n",
       "      <use xlink:href=\"#DejaVuSans-54\"/>\n",
       "      <use xlink:href=\"#DejaVuSans-61\" x=\"44.583984\"/>\n",
       "      <use xlink:href=\"#DejaVuSans-6e\" x=\"105.863281\"/>\n",
       "      <use xlink:href=\"#DejaVuSans-67\" x=\"169.242188\"/>\n",
       "      <use xlink:href=\"#DejaVuSans-65\" x=\"232.71875\"/>\n",
       "      <use xlink:href=\"#DejaVuSans-6e\" x=\"294.242188\"/>\n",
       "      <use xlink:href=\"#DejaVuSans-74\" x=\"357.621094\"/>\n",
       "      <use xlink:href=\"#DejaVuSans-20\" x=\"396.830078\"/>\n",
       "      <use xlink:href=\"#DejaVuSans-6c\" x=\"428.617188\"/>\n",
       "      <use xlink:href=\"#DejaVuSans-69\" x=\"456.400391\"/>\n",
       "      <use xlink:href=\"#DejaVuSans-6e\" x=\"484.183594\"/>\n",
       "      <use xlink:href=\"#DejaVuSans-65\" x=\"547.5625\"/>\n",
       "      <use xlink:href=\"#DejaVuSans-20\" x=\"609.085938\"/>\n",
       "      <use xlink:href=\"#DejaVuSans-28\" x=\"640.873047\"/>\n",
       "      <use xlink:href=\"#DejaVuSans-78\" x=\"679.886719\"/>\n",
       "      <use xlink:href=\"#DejaVuSans-3d\" x=\"739.066406\"/>\n",
       "      <use xlink:href=\"#DejaVuSans-31\" x=\"822.855469\"/>\n",
       "      <use xlink:href=\"#DejaVuSans-29\" x=\"886.478516\"/>\n",
       "     </g>\n",
       "    </g>\n",
       "   </g>\n",
       "  </g>\n",
       " </g>\n",
       " <defs>\n",
       "  <clipPath id=\"p4897c045dc\">\n",
       "   <rect x=\"52.160938\" y=\"22.318125\" width=\"558\" height=\"554.4\"/>\n",
       "  </clipPath>\n",
       " </defs>\n",
       "</svg>\n"
      ],
      "text/plain": [
       "<Figure size 1000x1000 with 1 Axes>"
      ]
     },
     "metadata": {},
     "output_type": "display_data"
    }
   ],
   "source": [
    "plt.figure(figsize=(10, 10), dpi=100)\n",
    "x = np.arange(.60, 2, 0.1)\n",
    "plot(x, [f(x), 1.0100 * x - 1.0100], 'x', 'f(x)', legend=['f(x)', 'Tangent line (x=1)'])\n",
    "plt.scatter([.99], [1.0100 * .99 - 1.0100], marker=\"o\", c=\"green\")\n",
    "plt.title(\"The function has {} slope at x:{}\".format(round(derivative(f, .99),3), .99));"
   ]
  },
  {
   "cell_type": "markdown",
   "id": "a0fe5add-949a-45c5-865d-95946d2ea7af",
   "metadata": {},
   "source": [
    "## Partial Derivatives and Gradients\n",
    ":label:`subsec_calculus-grad`\n",
    "\n",
    "Thus far, we have been differentiating\n",
    "functions of just one variable.\n",
    "In deep learning, we also need to work\n",
    "with functions of *many* variables.\n",
    "We briefly introduce notions of the derivative\n",
    "that apply to such *multivariate* functions.\n",
    "\n",
    "\n",
    "Let $y = f(x_1, x_2, \\ldots, x_n)$ be a function with $n$ variables. \n",
    "The *partial derivative* of $y$ \n",
    "with respect to its $i^\\textrm{th}$ parameter $x_i$ is\n",
    "\n",
    "$$ \\frac{\\partial y}{\\partial x_i} = \\lim_{h \\rightarrow 0} \\frac{f(x_1, \\ldots, x_{i-1}, x_i+h, x_{i+1}, \\ldots, x_n) - f(x_1, \\ldots, x_i, \\ldots, x_n)}{h}.$$\n",
    "\n",
    "\n",
    "To calculate $\\frac{\\partial y}{\\partial x_i}$, \n",
    "we can treat $x_1, \\ldots, x_{i-1}, x_{i+1}, \\ldots, x_n$ as constants \n",
    "and calculate the derivative of $y$ with respect to $x_i$.\n",
    "The following notational conventions for partial derivatives \n",
    "are all common and all mean the same thing:\n",
    "\n",
    "$$\\frac{\\partial y}{\\partial x_i} = \\frac{\\partial f}{\\partial x_i} = \\partial_{x_i} f = \\partial_i f = f_{x_i} = f_i = D_i f = D_{x_i} f.$$\n",
    "\n",
    "We can concatenate partial derivatives \n",
    "of a multivariate function \n",
    "with respect to all its variables \n",
    "to obtain a vector that is called\n",
    "the *gradient* of the function.\n",
    "Suppose that the input of function \n",
    "$f: \\mathbb{R}^n \\rightarrow \\mathbb{R}$ \n",
    "is an $n$-dimensional vector \n",
    "$\\mathbf{x} = [x_1, x_2, \\ldots, x_n]^\\top$ \n",
    "and the output is a scalar. \n",
    "The gradient of the function $f$ \n",
    "with respect to $\\mathbf{x}$ \n",
    "is a vector of $n$ partial derivatives:\n",
    "\n",
    "$$\\nabla_{\\mathbf{x}} f(\\mathbf{x}) = \\left[\\partial_{x_1} f(\\mathbf{x}), \\partial_{x_2} f(\\mathbf{x}), \\ldots\n",
    "\\partial_{x_n} f(\\mathbf{x})\\right]^\\top.$$ \n",
    "\n",
    "When there is no ambiguity,\n",
    "$\\nabla_{\\mathbf{x}} f(\\mathbf{x})$ \n",
    "is typically replaced \n",
    "by $\\nabla f(\\mathbf{x})$.\n",
    "\n",
    "## The matrix rules\n",
    "The following rules come in handy \n",
    "for differentiating multivariate functions:\n",
    "\n",
    "* For all $\\mathbf{A} \\in \\mathbb{R}^{m \\times n}$ we have $\\nabla_{\\mathbf{x}} \\mathbf{A} \\mathbf{x} = \\mathbf{A}^\\top$ and $\\nabla_{\\mathbf{x}} \\mathbf{x}^\\top \\mathbf{A}  = \\mathbf{A}$.\n",
    "* For square matrices $\\mathbf{A} \\in \\mathbb{R}^{n \\times n}$ we have that $\\nabla_{\\mathbf{x}} \\mathbf{x}^\\top \\mathbf{A} \\mathbf{x}  = (\\mathbf{A} + \\mathbf{A}^\\top)\\mathbf{x}$ and in particular\n",
    "$\\nabla_{\\mathbf{x}} \\|\\mathbf{x} \\|^2 = \\nabla_{\\mathbf{x}} \\mathbf{x}^\\top \\mathbf{x} = 2\\mathbf{x}$.\n",
    "\n",
    "Similarly, for any matrix $\\mathbf{X}$, \n",
    "we have $\\nabla_{\\mathbf{X}} \\|\\mathbf{X} \\|_\\textrm{F}^2 = 2\\mathbf{X}$. \n",
    "\n",
    "\n"
   ]
  },
  {
   "cell_type": "markdown",
   "id": "c26e1f1d-b7b0-4f5c-a6fc-a50e1c48aec2",
   "metadata": {},
   "source": [
    "\n",
    "## Chain Rule\n",
    "\n",
    "In deep learning, the gradients of concern\n",
    "are often difficult to calculate\n",
    "because we are working with \n",
    "deeply nested functions \n",
    "(of functions (of functions...)).\n",
    "Fortunately, the *chain rule* takes care of this. \n",
    "Returning to functions of a single variable,\n",
    "suppose that $y = f(g(x))$\n",
    "and that the underlying functions \n",
    "$y=f(u)$ and $u=g(x)$ \n",
    "are both differentiable.\n",
    "The chain rule states that \n",
    "\n",
    "\n",
    "$$\\frac{dy}{dx} = \\frac{dy}{du} \\frac{du}{dx}.$$\n",
    "\n",
    "\n",
    "\n",
    "Turning back to multivariate functions,\n",
    "suppose that $y = f(\\mathbf{u})$ has variables\n",
    "$u_1, u_2, \\ldots, u_m$, \n",
    "where each $u_i = g_i(\\mathbf{x})$ \n",
    "has variables $x_1, x_2, \\ldots, x_n$,\n",
    "i.e.,  $\\mathbf{u} = g(\\mathbf{x})$.\n",
    "Then the chain rule states that\n",
    "\n",
    "$$\\frac{\\partial y}{\\partial x_{i}} = \\frac{\\partial y}{\\partial u_{1}} \\frac{\\partial u_{1}}{\\partial x_{i}} + \\frac{\\partial y}{\\partial u_{2}} \\frac{\\partial u_{2}}{\\partial x_{i}} + \\ldots + \\frac{\\partial y}{\\partial u_{m}} \\frac{\\partial u_{m}}{\\partial x_{i}} \\ \\textrm{ and so } \\ \\nabla_{\\mathbf{x}} y =  \\mathbf{A} \\nabla_{\\mathbf{u}} y,$$\n",
    "\n",
    "where $\\mathbf{A} \\in \\mathbb{R}^{n \\times m}$ is a *matrix*\n",
    "that contains the derivative of vector $\\mathbf{u}$\n",
    "with respect to vector $\\mathbf{x}$.\n",
    "Thus, evaluating the gradient requires \n",
    "computing a vector--matrix product. \n",
    "This is one of the key reasons why linear algebra \n",
    "is such an integral building block \n",
    "in building deep learning systems. \n"
   ]
  },
  {
   "cell_type": "markdown",
   "id": "ebd783d4",
   "metadata": {
    "origin_pos": 23
   },
   "source": [
    "\n",
    "\n",
    "\n",
    "## Discussion\n",
    "\n",
    "While we have just scratched the surface of a deep topic,\n",
    "a number of concepts already come into focus: \n",
    "first, the composition rules for differentiation\n",
    "can be applied routinely, enabling\n",
    "us to compute gradients *automatically*.\n",
    "This task requires no creativity and thus \n",
    "we can focus our cognitive powers elsewhere.\n",
    "Second, computing the derivatives of vector-valued functions \n",
    "requires us to multiply matrices as we trace \n",
    "the dependency graph of variables from output to input. \n",
    "In particular, this graph is traversed in a *forward* direction \n",
    "when we evaluate a function \n",
    "and in a *backwards* direction \n",
    "when we compute gradients. \n",
    "Later chapters will formally introduce backpropagation,\n",
    "a computational procedure for applying the chain rule.\n",
    "\n",
    "From the viewpoint of optimization, gradients allow us \n",
    "to determine how to move the parameters of a model\n",
    "in order to lower the loss,\n",
    "and each step of the optimization algorithms used \n",
    "throughout this book will require calculating the gradient.\n",
    "\n",
    "## Exercises\n",
    "\n",
    "1. So far we took the rules for derivatives for granted. \n",
    "   Using the definition and limits prove the properties \n",
    "   for (i) $f(x) = c$, (ii) $f(x) = x^n$, (iii) $f(x) = e^x$ and (iv) $f(x) = \\log x$.\n",
    "1. In the same vein, prove the product, sum, and quotient rule from first principles. \n",
    "1. Prove that the constant multiple rule follows as a special case of the product rule. \n",
    "1. Calculate the derivative of $f(x) = x^x$. \n",
    "1. What does it mean that $f'(x) = 0$ for some $x$? \n",
    "   Give an example of a function $f$ \n",
    "   and a location $x$ for which this might hold. \n",
    "1. Plot the function $y = f(x) = x^3 - \\frac{1}{x}$ \n",
    "   and plot its tangent line at $x = 1$.\n",
    "1. Find the gradient of the function \n",
    "   $f(\\mathbf{x}) = 3x_1^2 + 5e^{x_2}$.\n",
    "1. What is the gradient of the function \n",
    "   $f(\\mathbf{x}) = \\|\\mathbf{x}\\|_2$? What happens for $\\mathbf{x} = \\mathbf{0}$?\n",
    "1. Can you write out the chain rule for the case \n",
    "   where $u = f(x, y, z)$ and $x = x(a, b)$, $y = y(a, b)$, and $z = z(a, b)$?\n",
    "1. Given a function $f(x)$ that is invertible, \n",
    "   compute the derivative of its inverse $f^{-1}(x)$. \n",
    "   Here we have that $f^{-1}(f(x)) = x$ and conversely $f(f^{-1}(y)) = y$. \n",
    "   Hint: use these properties in your derivation.\n"
   ]
  },
  {
   "cell_type": "markdown",
   "id": "e6a8d8e9",
   "metadata": {
    "origin_pos": 25,
    "tab": [
     "pytorch"
    ]
   },
   "source": [
    "[Discussions](https://discuss.d2l.ai/t/33)\n"
   ]
  }
 ],
 "metadata": {
  "kernelspec": {
   "display_name": "Python 3 (ipykernel)",
   "language": "python",
   "name": "python3"
  },
  "language_info": {
   "codemirror_mode": {
    "name": "ipython",
    "version": 3
   },
   "file_extension": ".py",
   "mimetype": "text/x-python",
   "name": "python",
   "nbconvert_exporter": "python",
   "pygments_lexer": "ipython3",
   "version": "3.11.7"
  },
  "required_libs": []
 },
 "nbformat": 4,
 "nbformat_minor": 5
}
