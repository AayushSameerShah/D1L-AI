{
 "cells": [
  {
   "cell_type": "markdown",
   "id": "4b819460-8481-4e34-8ef1-f61f1d8a9ab4",
   "metadata": {},
   "source": [
    "# We have a regression... but need to convert it some-how\n",
    "\n",
    "**There can me multiple approaches to deal with this conversion**.\n",
    "\n",
    "- The setup is the similar.\n",
    "- But this time, instead of having a single node in the output layer, we will have `n` nodes per class.\n",
    "- That will make, `n` linear models.\n",
    "\n",
    "**Read the passage below:**\n",
    "\n",
    "In general, classification problems do not come\n",
    "with natural orderings among the classes.\n",
    "Fortunately, statisticians long ago invented a simple way\n",
    "to represent categorical data: the *one-hot encoding*.\n",
    "A one-hot encoding is a vector\n",
    "with as many components as we have categories.\n",
    "The component corresponding to a particular instance's category is set to 1\n",
    "and all other components are set to 0.\n",
    "In our case, a label $y$ would be a three-dimensional vector,\n",
    "with $(1, 0, 0)$ corresponding to \"cat\", $(0, 1, 0)$ to \"chicken\",\n",
    "and $(0, 0, 1)$ to \"dog\":\n",
    "\n",
    "$$y \\in \\{(1, 0, 0), (0, 1, 0), (0, 0, 1)\\}.$$\n",
    "\n",
    "### Linear Model\n",
    "\n",
    "In order to estimate the conditional probabilities\n",
    "associated with all the possible classes,\n",
    "we need a model with multiple outputs, one per class.\n",
    "To address classification with linear models,\n",
    "we will need as many affine functions as we have outputs.\n",
    "Strictly speaking, we only need one fewer,\n",
    "since the final category has to be the difference\n",
    "between $1$ and the sum of the other categories,\n",
    "but for reasons of symmetry\n",
    "we use a slightly redundant parametrization.\n",
    "Each output corresponds to its own affine function.\n",
    "In our case, since we have 4 features and 3 possible output categories,\n",
    "we need 12 scalars to represent the weights ($w$ with subscripts),\n",
    "and 3 scalars to represent the biases ($b$ with subscripts). This yields:\n",
    "\n",
    "$$\n",
    "\\begin{aligned}\n",
    "o_1 &= x_1 w_{11} + x_2 w_{12} + x_3 w_{13} + x_4 w_{14} + b_1,\\\\\n",
    "o_2 &= x_1 w_{21} + x_2 w_{22} + x_3 w_{23} + x_4 w_{24} + b_2,\\\\\n",
    "o_3 &= x_1 w_{31} + x_2 w_{32} + x_3 w_{33} + x_4 w_{34} + b_3.\n",
    "\\end{aligned}\n",
    "$$\n",
    "\n",
    "The corresponding neural network diagram\n",
    "is shown in :numref:`fig_softmaxreg`.\n",
    "Just as in linear regression,\n",
    "we use a single-layer neural network.\n",
    "And since the calculation of each output, $o_1, o_2$, and $o_3$,\n",
    "depends on every input, $x_1$, $x_2$, $x_3$, and $x_4$,\n",
    "the output layer can also be described as a *fully connected layer*.\n",
    "\n",
    "![Softmax regression is a single-layer neural network.](../images/softmaxreg.svg)\n"
   ]
  },
  {
   "cell_type": "markdown",
   "id": "4be4cb83-36ff-43b8-9990-4a85bf321ec6",
   "metadata": {
    "jp-MarkdownHeadingCollapsed": true
   },
   "source": [
    "## And the ways to do this are...\n",
    "\n",
    "\n",
    "There are many ways we might accomplish this goal.\n",
    "\n",
    "1. For instance, we could assume that the outputs\n",
    "$\\mathbf{o}$ are corrupted versions of $\\mathbf{y}$,\n",
    "where the corruption occurs by means of adding noise $\\boldsymbol{\\epsilon}$\n",
    "drawn from a normal distribution.\n",
    "In other words, $\\mathbf{y} = \\mathbf{o} + \\boldsymbol{\\epsilon}$,\n",
    "where $\\epsilon_i \\sim \\mathcal{N}(0, \\sigma^2)$.\n",
    "This is the so-called [probit model](https://en.wikipedia.org/wiki/Probit_model),\n",
    "first introduced by :citet:`Fechner.1860`.\n",
    "While appealing, it does not work quite as well\n",
    "nor lead to a particularly nice optimization problem,\n",
    "when compared to the softmax.\n",
    "\n",
    "2. Another way to accomplish this goal\n",
    "(and to ensure nonnegativity) is to use\n",
    "an exponential function $P(y = i) \\propto \\exp o_i$.\n",
    "This does indeed satisfy the requirement\n",
    "that the conditional class probability\n",
    "increases with increasing $o_i$, it is monotonic,\n",
    "and all probabilities are nonnegative.\n",
    "We can then transform these values so that they add up to $1$\n",
    "by dividing each by their sum.\n",
    "This process is called *normalization*.\n",
    "Putting these two pieces together\n",
    "gives us the *softmax* function:\n",
    "\n",
    "$$\\hat{\\mathbf{y}} = \\mathrm{softmax}(\\mathbf{o}) \\quad \\textrm{where}\\quad \\hat{y}_i = \\frac{\\exp(o_i)}{\\sum_j \\exp(o_j)}.$$\n",
    "\n",
    "Note that the largest coordinate of $\\mathbf{o}$\n",
    "corresponds to the most likely class according to $\\hat{\\mathbf{y}}$.\n",
    "Moreover, because the softmax operation\n",
    "preserves the ordering among its arguments,\n",
    "we do not need to compute the softmax\n",
    "to determine which class has been assigned the highest probability. Thus,\n",
    "\n",
    "$$\n",
    "\\operatorname*{argmax}_j \\hat y_j = \\operatorname*{argmax}_j o_j.\n",
    "$$\n"
   ]
  },
  {
   "cell_type": "markdown",
   "id": "7868182a-2606-45a0-8b51-f7e01c07bf86",
   "metadata": {},
   "source": [
    "## 1️⃣ We are interested in exploring the first one."
   ]
  },
  {
   "cell_type": "code",
   "execution_count": 1,
   "id": "bafa5cd9-b563-40a9-b6be-e60d8a8e7494",
   "metadata": {},
   "outputs": [],
   "source": [
    "import numpy as np\n",
    "import scipy.stats as stats\n",
    "import matplotlib.pyplot as plt\n",
    "\n",
    "# Generate some example data\n",
    "np.random.seed(0)\n",
    "N = 100  # number of data points\n",
    "X = np.random.normal(loc=50, scale=15, size=N)  # income values (features)\n"
   ]
  },
  {
   "cell_type": "code",
   "execution_count": 2,
   "id": "fb86692c-c8a7-4750-97bd-b69a80e8a904",
   "metadata": {},
   "outputs": [
    {
     "data": {
      "text/plain": [
       "array([76.46078519, 56.00235813, 64.68106976, 83.61339799, 78.01336985,\n",
       "       35.3408318 , 64.25132626, 47.72964188, 48.45171722, 56.15897753,\n",
       "       52.16065357, 71.8141026 , 61.41556588, 51.82512525, 56.65794849,\n",
       "       55.00511491, 72.4111861 , 46.92262604, 54.69601552, 37.18856391,\n",
       "       11.70515276, 59.80427893, 62.96654298, 38.86752469, 84.04631936,\n",
       "       28.18451488, 50.68637776, 47.19224225, 72.99168822, 72.04038155,\n",
       "       52.32421139, 55.67243779, 36.68321379, 20.28805298, 44.78131776,\n",
       "       52.34523454, 68.45436021, 68.03569773, 44.19009774, 45.46545874,\n",
       "       34.27170552, 28.69973094, 24.40594714, 79.26163093, 42.35521727,\n",
       "       43.42888548, 31.2080696 , 61.66235534, 25.79153229, 46.8088958 ,\n",
       "       36.56800158, 55.80353747, 42.33792294, 32.29051724, 49.57726657,\n",
       "       56.42497806, 50.99775834, 54.53707847, 40.48516859, 44.55888251,\n",
       "       39.91309328, 44.60670258, 37.80280577, 24.10576097, 52.66139213,\n",
       "       43.97328596, 25.5470248 , 56.94173383, 36.39052453, 50.77918094,\n",
       "       60.93635843, 51.93474366, 67.09101027, 31.47761269, 56.03512462,\n",
       "       39.72784864, 36.93804276, 41.31725503, 45.32671202, 50.84248013,\n",
       "       32.52275239, 63.5123973 , 56.9849366 , 26.95634471, 72.32378291,\n",
       "       78.43833764, 67.68169357, 47.30112746, 33.93871068, 65.8167759 ,\n",
       "       43.9523458 , 68.33667606, 53.12412467, 64.64958555, 55.34549596,\n",
       "       60.59859752, 50.15750031, 76.78805741, 51.90368139, 56.02984045])"
      ]
     },
     "execution_count": 2,
     "metadata": {},
     "output_type": "execute_result"
    }
   ],
   "source": [
    "X"
   ]
  },
  {
   "cell_type": "code",
   "execution_count": 3,
   "id": "9f5943b1-ebcc-4de9-957a-fde2cb14c78a",
   "metadata": {},
   "outputs": [],
   "source": [
    "# True parameters (unknown in practice)\n",
    "w_true = 0.05  # weight for the income feature\n",
    "b_true = -2    # bias term"
   ]
  },
  {
   "cell_type": "code",
   "execution_count": 4,
   "id": "c0410e20-ff6a-47e7-adf1-71b5901cdec4",
   "metadata": {},
   "outputs": [],
   "source": [
    "# Linear combination (o = wX + b)\n",
    "o = w_true * X + b_true"
   ]
  },
  {
   "cell_type": "code",
   "execution_count": 5,
   "id": "a337e695-3d22-4b55-a7cd-12f7a68e633e",
   "metadata": {},
   "outputs": [
    {
     "data": {
      "text/plain": [
       "array([ 1.82303926,  0.80011791,  1.23405349,  2.1806699 ,  1.90066849,\n",
       "       -0.23295841,  1.21256631,  0.38648209,  0.42258586,  0.80794888,\n",
       "        0.60803268,  1.59070513,  1.07077829,  0.59125626,  0.83289742,\n",
       "        0.75025575,  1.6205593 ,  0.3461313 ,  0.73480078, -0.1405718 ,\n",
       "       -1.41474236,  0.99021395,  1.14832715, -0.05662377,  2.20231597,\n",
       "       -0.59077426,  0.53431889,  0.35961211,  1.64958441,  1.60201908,\n",
       "        0.61621057,  0.78362189, -0.16583931, -0.98559735,  0.23906589,\n",
       "        0.61726173,  1.42271801,  1.40178489,  0.20950489,  0.27327294,\n",
       "       -0.28641472, -0.56501345, -0.77970264,  1.96308155,  0.11776086,\n",
       "        0.17144427, -0.43959652,  1.08311777, -0.71042339,  0.34044479,\n",
       "       -0.17159992,  0.79017687,  0.11689615, -0.38547414,  0.47886333,\n",
       "        0.8212489 ,  0.54988792,  0.72685392,  0.02425843,  0.22794413,\n",
       "       -0.00434534,  0.23033513, -0.10985971, -0.79471195,  0.63306961,\n",
       "        0.1986643 , -0.72264876,  0.84708669, -0.18047377,  0.53895905,\n",
       "        1.04681792,  0.59673718,  1.35455051, -0.42611937,  0.80175623,\n",
       "       -0.01360757, -0.15309786,  0.06586275,  0.2663356 ,  0.54212401,\n",
       "       -0.37386238,  1.17561987,  0.84924683, -0.65218276,  1.61618915,\n",
       "        1.92191688,  1.38408468,  0.36505637, -0.30306447,  1.2908388 ,\n",
       "        0.19761729,  1.4168338 ,  0.65620623,  1.23247928,  0.7672748 ,\n",
       "        1.02992988,  0.50787502,  1.83940287,  0.59518407,  0.80149202])"
      ]
     },
     "execution_count": 5,
     "metadata": {},
     "output_type": "execute_result"
    }
   ],
   "source": [
    "# just some values...\n",
    "o"
   ]
  },
  {
   "cell_type": "code",
   "execution_count": 6,
   "id": "a5a4bb9b-68cf-4f3b-a680-565718ecedf9",
   "metadata": {},
   "outputs": [],
   "source": [
    "\n",
    "# Convert o to probabilities using the CDF of the normal distribution\n",
    "probs = stats.norm.cdf(o)"
   ]
  },
  {
   "cell_type": "code",
   "execution_count": 7,
   "id": "334f7779-a31a-41ea-ab42-cd751c46fb2e",
   "metadata": {},
   "outputs": [
    {
     "data": {
      "text/plain": [
       "array([0.96585128, 0.78817876, 0.89140851, 0.98539608, 0.97132728,\n",
       "       0.40789685, 0.88735216, 0.65043017, 0.66370128, 0.79043999,\n",
       "       0.7284171 , 0.94416202, 0.85786544, 0.72282563, 0.79754871,\n",
       "       0.77344965, 0.94744391, 0.63537798, 0.76876958, 0.44410411,\n",
       "       0.07857202, 0.83896522, 0.87458323, 0.47742245, 0.9861785 ,\n",
       "       0.27733584, 0.70343954, 0.64043139, 0.95048602, 0.9454243 ,\n",
       "       0.73112222, 0.783369  , 0.4341417 , 0.16216537, 0.59447275,\n",
       "       0.73146895, 0.92259104, 0.91951025, 0.58297294, 0.60767829,\n",
       "       0.38728025, 0.28603231, 0.21778296, 0.97518165, 0.54687143,\n",
       "       0.56806278, 0.33011468, 0.86062192, 0.23872081, 0.6332392 ,\n",
       "       0.43187603, 0.78528776, 0.54652882, 0.34994308, 0.68398207,\n",
       "       0.79424775, 0.70880187, 0.76634228, 0.50967676, 0.59015516,\n",
       "       0.49826647, 0.59108432, 0.45626032, 0.21339054, 0.73665591,\n",
       "       0.57873732, 0.23494785, 0.8015266 , 0.42839032, 0.70504244,\n",
       "       0.85240822, 0.72465857, 0.9122196 , 0.33501043, 0.78865301,\n",
       "       0.49457153, 0.43916055, 0.52625645, 0.60500962, 0.70613346,\n",
       "       0.35425335, 0.88012659, 0.80212802, 0.25714164, 0.94697329,\n",
       "       0.97269189, 0.91683374, 0.64246534, 0.38092037, 0.90162021,\n",
       "       0.57832775, 0.92173424, 0.74415428, 0.89111495, 0.77854093,\n",
       "       0.84847854, 0.6942295 , 0.96707202, 0.72413978, 0.78857657])"
      ]
     },
     "execution_count": 7,
     "metadata": {},
     "output_type": "execute_result"
    }
   ],
   "source": [
    "probs"
   ]
  },
  {
   "cell_type": "code",
   "execution_count": 17,
   "id": "150fb97a-b7d7-4b94-8ab8-8c67db8f71b8",
   "metadata": {},
   "outputs": [],
   "source": [
    "# Simulate binary outcomes (y = 1 with probability = prob, else y = 0)\n",
    "y = np.random.binomial(1, probs)"
   ]
  },
  {
   "cell_type": "code",
   "execution_count": 18,
   "id": "fbaf2139-fb29-4efb-978c-47c090c05c84",
   "metadata": {},
   "outputs": [
    {
     "data": {
      "text/plain": [
       "array([1, 1, 1, 1, 1, 1, 1, 0, 1, 0, 0, 1, 1, 1, 1, 1, 1, 1, 1, 0, 0, 0,\n",
       "       1, 0, 1, 1, 0, 0, 0, 1, 1, 1, 1, 0, 0, 1, 1, 1, 1, 1, 1, 0, 0, 1,\n",
       "       1, 0, 0, 1, 0, 1, 0, 1, 0, 0, 0, 1, 1, 1, 0, 1, 1, 0, 1, 0, 1, 1,\n",
       "       0, 1, 0, 0, 1, 1, 1, 0, 0, 0, 1, 1, 1, 1, 0, 1, 1, 0, 1, 1, 1, 1,\n",
       "       0, 1, 1, 1, 1, 1, 1, 0, 1, 1, 0, 1])"
      ]
     },
     "execution_count": 18,
     "metadata": {},
     "output_type": "execute_result"
    }
   ],
   "source": [
    "y"
   ]
  },
  {
   "cell_type": "code",
   "execution_count": 10,
   "id": "cb64e3a2-871e-4660-bd02-75d96e258fcd",
   "metadata": {},
   "outputs": [
    {
     "data": {
      "image/png": "[encoded data removed]",
      "text/plain": [
       "<Figure size 640x480 with 1 Axes>"
      ]
     },
     "metadata": {},
     "output_type": "display_data"
    }
   ],
   "source": [
    "# Visualize the data\n",
    "plt.scatter(X, y, label='True outcomes')\n",
    "plt.xlabel('Income')\n",
    "plt.ylabel('Purchase (1 = Yes, 0 = No)')\n",
    "plt.title('Probit Model Data')\n",
    "plt.show()"
   ]
  },
  {
   "cell_type": "markdown",
   "id": "0804c11d-fe8c-467c-8253-736734206b5c",
   "metadata": {},
   "source": [
    "# "
   ]
  },
  {
   "cell_type": "code",
   "execution_count": 34,
   "id": "fe164846-7fe2-4df5-93ce-6f76a9587867",
   "metadata": {},
   "outputs": [],
   "source": [
    "probs = np.array([.1, .4, .4, .1])"
   ]
  },
  {
   "cell_type": "code",
   "execution_count": 35,
   "id": "7244e2cc-f9d2-426e-b17c-b352034079e7",
   "metadata": {},
   "outputs": [
    {
     "data": {
      "text/plain": [
       "1.0"
      ]
     },
     "execution_count": 35,
     "metadata": {},
     "output_type": "execute_result"
    }
   ],
   "source": [
    "probs.sum()"
   ]
  },
  {
   "cell_type": "code",
   "execution_count": 37,
   "id": "3c2d4556-6199-4412-82fc-6e0f450f5df7",
   "metadata": {},
   "outputs": [
    {
     "data": {
      "text/plain": [
       "-6.437751649736401"
      ]
     },
     "execution_count": 37,
     "metadata": {},
     "output_type": "execute_result"
    }
   ],
   "source": [
    "np.log(probs.prod())"
   ]
  },
  {
   "cell_type": "code",
   "execution_count": 39,
   "id": "5443bb5c-9a4e-45de-8edb-316c90b5feab",
   "metadata": {},
   "outputs": [
    {
     "data": {
      "text/plain": [
       "-6.4377516497364"
      ]
     },
     "execution_count": 39,
     "metadata": {},
     "output_type": "execute_result"
    }
   ],
   "source": [
    "np.log(probs).sum()"
   ]
  },
  {
   "cell_type": "markdown",
   "id": "eb2aa492-a088-41d5-943c-5b1aa9df45de",
   "metadata": {},
   "source": [
    "So this is how it works.\n",
    "\n",
    "- We **need** to multiply the probs\n",
    "- But that will lead to too small values causing undderflow or overflow situation\n",
    "- So we take logs\n",
    "- Then we add the logged probabilitites that will do the same thing."
   ]
  },
  {
   "cell_type": "markdown",
   "id": "3d6ca40f-0e22-4486-968e-1821ba630dbb",
   "metadata": {},
   "source": [
    "## What happens in a nutshell"
   ]
  },
  {
   "cell_type": "markdown",
   "id": "a0fc702d-b50f-4403-a1a1-6c82d4077242",
   "metadata": {},
   "source": [
    "\n",
    "$$\n",
    "P(\\mathbf{Y} \\mid \\mathbf{X}) = \\prod_{i=1}^n P(\\mathbf{y}^{(i)} \\mid \\mathbf{x}^{(i)}).\n",
    "$$\n"
   ]
  },
  {
   "cell_type": "markdown",
   "id": "bdeada6d-d64f-4d0d-865e-c942281db14a",
   "metadata": {},
   "source": [
    "This function is the **actual loss function**."
   ]
  },
  {
   "cell_type": "markdown",
   "id": "6fe4ff47-dcdb-4bd0-91ac-5a247b5af59a",
   "metadata": {},
   "source": [
    "- Here, we will get the probabilities for all classes.\n",
    "- For example if you are predicting, `cat, dog or bull` then let's say for the first record your **actual** was cat then you will pick the **probability on the first index**.\n",
    "- It will be generally wrong, so let's say it is `0.2` for cat.\n",
    "- You will do this for **all records**\n",
    "- Mutiply them and that is your loss."
   ]
  },
  {
   "cell_type": "markdown",
   "id": "30f1065a-56e4-4a0b-8bdb-1612859c5160",
   "metadata": {},
   "source": [
    "Here we take the log, so **the lower the number is, the higher the log is**"
   ]
  },
  {
   "cell_type": "code",
   "execution_count": 2,
   "id": "5f21dc0c-79ed-4d73-9839-cbf4960a2476",
   "metadata": {},
   "outputs": [
    {
     "data": {
      "text/plain": [
       "-1.6094379124341003"
      ]
     },
     "execution_count": 2,
     "metadata": {},
     "output_type": "execute_result"
    }
   ],
   "source": [
    "# example\n",
    "np.log(0.2) # prob of being a cat"
   ]
  },
  {
   "cell_type": "code",
   "execution_count": 3,
   "id": "cbfd35e0-d50a-45ea-ba78-bd428c2eb21d",
   "metadata": {},
   "outputs": [
    {
     "data": {
      "text/plain": [
       "-0.10536051565782628"
      ]
     },
     "execution_count": 3,
     "metadata": {},
     "output_type": "execute_result"
    }
   ],
   "source": [
    "np.log(0.9) # prob of being a cat"
   ]
  },
  {
   "cell_type": "markdown",
   "id": "f0efa56d-771c-40b9-aa36-dafc096ded12",
   "metadata": {},
   "source": [
    "🎉 That's how it works!!"
   ]
  }
 ],
 "metadata": {
  "kernelspec": {
   "display_name": "Python 3 (ipykernel)",
   "language": "python",
   "name": "python3"
  },
  "language_info": {
   "codemirror_mode": {
    "name": "ipython",
    "version": 3
   },
   "file_extension": ".py",
   "mimetype": "text/x-python",
   "name": "python",
   "nbconvert_exporter": "python",
   "pygments_lexer": "ipython3",
   "version": "3.9.19"
  }
 },
 "nbformat": 4,
 "nbformat_minor": 5
}
